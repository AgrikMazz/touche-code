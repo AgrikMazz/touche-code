{
 "cells": [
  {
   "cell_type": "markdown",
   "id": "1996c3be-ed69-4674-8fe1-dc8df3e9543b",
   "metadata": {},
   "source": [
    "# PyTerrier Starter: Re-Rank with PyTerrier for Task 2 in Touche 2023\n",
    "\n",
    "This is the [PyTerrier](https://github.com/terrier-org/pyterrier) baseline for [task 2 on Evidence Retrieval for Causal Questions](https://touche.webis.de/clef23/touche23-web/evidence-retrieval-for-causal-questions.html) in [Touché 2023](https://touche.webis.de/clef23/touche23-web/).\n",
    "\n",
    "This notebook implements a simple BM25 re-ranker.\n",
    "\n",
    "### Adapt the notebook locally\n",
    "\n",
    "You can adapt/run this baseline locally with docker and can directly deploy and run it in [TIRA.io](https://www.tira.io/task/touche-2023-task-2).\n",
    "\n",
    "With docker installed, you can start this notebook with the command:\n",
    "\n",
    "```\n",
    "docker run --rm -ti \\\n",
    "    -p 8888:8888 \\\n",
    "    -v ${PWD}:/workspace \\\n",
    "    webis/tira-touche23-task-2-pyterrier-baseline:0.0.2 \\\n",
    "    jupyter-lab --allow-root --ip 0.0.0.0\n",
    "```\n",
    "\n",
    "### Deployment in TIRA\n",
    "\n",
    "To deploy approaches in TIRA, you upload the image and specify the command that is to be executed in the image. TIRA gives you a personalized documentation on how to upload the image, and to run this notebook in TIRA you can specify the following command in TIRA:\n",
    "\n",
    "```\n",
    "/workspace/run-pyterrier-notebook.py --notebook /workspace/re-rank-pipeline.ipynb --input $inputDataset --output $outputDir\n",
    "```\n",
    "\n",
    "You can dry-run this on your machine by executing the command:\n",
    "\n",
    "```\n",
    "tira-run \\\n",
    "    --input-directory ${PWD}/sample-input/re-rank \\\n",
    "    --image webis/tira-touche23-task-2-pyterrier-baseline:0.0.2 \\\n",
    "    --command '/workspace/run-pyterrier-notebook.py --notebook /workspace/re-rank-pipeline.ipynb --input $inputDataset --output $outputDir'\n",
    "```\n",
    "\n",
    "In this example above, the command `/workspace/run-pyterrier-notebook.py --notebook /workspace/re-rank-pipeline.ipynb --input $inputDataset --output $outputDir` is the command that you would enter in TIRA, and the `--input-directory` flag points to the inputs.\n",
    "\n",
    "This creates a run file `tira-output/run.txt`, with content like (`cat sample-output/run.txt |head -3`):\n",
    "\n",
    "```\n",
    "1111 NEU clueweb12-1106wb-16-17437 1 -1.6923219067023894 bm25-re-rank-baseline\n",
    "1111 NEU clueweb12-1212wb-00-02238 2 -2.768819661029173 bm25-re-rank-baseline\n",
    "1111 NEU clueweb12-0302wb-19-28258 3 -2.768819661029173 bm25-re-rank-baseline\n",
    "```\n",
    "\n",
    "\n",
    "\n",
    "### Additional Resources\n",
    "\n",
    "- The [PyTerrier tutorial](https://github.com/terrier-org/ecir2021tutorial)\n",
    "- The [PyTerrier documentation](https://pyterrier.readthedocs.io/en/latest/)\n",
    "- The [TIRA quickstart](https://touche.webis.de/clef23/touche23-web/evidence-retrieval-for-causal-questions.html#tira-quickstart)\n",
    "\n"
   ]
  },
  {
   "cell_type": "markdown",
   "id": "b3fc6cff-ffc7-4f0c-a93f-e35bdc388987",
   "metadata": {},
   "source": [
    "### Step 1: Import everything and load variables"
   ]
  },
  {
   "cell_type": "code",
   "execution_count": 1,
   "id": "ba20977a-e280-49ed-9857-392a0067ccdc",
   "metadata": {},
   "outputs": [
    {
     "name": "stdout",
     "output_type": "stream",
     "text": [
      "Start PyTerrier with version=5.7, helper_version=0.0.7, no_download=True\n"
     ]
    },
    {
     "name": "stderr",
     "output_type": "stream",
     "text": [
      "PyTerrier 0.9.2 has loaded Terrier 5.7 (built by craigm on 2022-11-10 18:30) and terrier-helper 0.0.7\n",
      "\n",
      "No etc/terrier.properties, using terrier.default.properties for bootstrap configuration.\n"
     ]
    },
    {
     "name": "stdout",
     "output_type": "stream",
     "text": [
      "I will use a small hardcoded example located in ./sample-input/re-rank.\n",
      "The output directory is /tmp/\n",
      "I will use a small hardcoded example located in ./sample-input/re-rank.\n",
      "The output directory is /tmp/\n"
     ]
    }
   ],
   "source": [
    "import pyterrier as pt\n",
    "import pandas as pd\n",
    "from tira.third_party_integrations import ensure_pyterrier_is_loaded, get_input_directory_and_output_directory, persist_and_normalize_run, load_rerank_data\n",
    "import json\n",
    "from tqdm import tqdm\n",
    "\n",
    "ensure_pyterrier_is_loaded()\n",
    "input_directory, output_directory = get_input_directory_and_output_directory('./sample-input/re-rank')\n",
    "\n",
    "df_rerank = load_rerank_data('./sample-input/re-rank')\n",
    "df_rerank['query'] = df_rerank['query'].apply(lambda i: \"\".join([x if x.isalnum() else \" \" for x in i]))"
   ]
  },
  {
   "cell_type": "code",
   "execution_count": 2,
   "id": "2558e75c-84dd-46c4-81bb-3b4ca27a8701",
   "metadata": {},
   "outputs": [
    {
     "data": {
      "text/html": [
       "<div>\n",
       "<style scoped>\n",
       "    .dataframe tbody tr th:only-of-type {\n",
       "        vertical-align: middle;\n",
       "    }\n",
       "\n",
       "    .dataframe tbody tr th {\n",
       "        vertical-align: top;\n",
       "    }\n",
       "\n",
       "    .dataframe thead th {\n",
       "        text-align: right;\n",
       "    }\n",
       "</style>\n",
       "<table border=\"1\" class=\"dataframe\">\n",
       "  <thead>\n",
       "    <tr style=\"text-align: right;\">\n",
       "      <th></th>\n",
       "      <th>qid</th>\n",
       "      <th>query</th>\n",
       "      <th>docno</th>\n",
       "      <th>text</th>\n",
       "    </tr>\n",
       "  </thead>\n",
       "  <tbody>\n",
       "    <tr>\n",
       "      <th>0</th>\n",
       "      <td>1111</td>\n",
       "      <td>does computer work increase eye pressure</td>\n",
       "      <td>clueweb12-1106wb-16-17437</td>\n",
       "      <td>Eyes hurt looking computer screen\\n\\n\\n\\nEyes ...</td>\n",
       "    </tr>\n",
       "    <tr>\n",
       "      <th>1</th>\n",
       "      <td>1111</td>\n",
       "      <td>does computer work increase eye pressure</td>\n",
       "      <td>clueweb12-0302wb-19-28258</td>\n",
       "      <td>How the Eye Works\\n\\n\\n\\nHow the Eye Works\\n\\n...</td>\n",
       "    </tr>\n",
       "    <tr>\n",
       "      <th>2</th>\n",
       "      <td>1111</td>\n",
       "      <td>does computer work increase eye pressure</td>\n",
       "      <td>clueweb12-1212wb-00-02238</td>\n",
       "      <td>How the Eye Works\\n\\n\\n\\nHow the Eye Works\\n\\n...</td>\n",
       "    </tr>\n",
       "  </tbody>\n",
       "</table>\n",
       "</div>"
      ],
      "text/plain": [
       "    qid                                      query                      docno  \\\n",
       "0  1111  does computer work increase eye pressure   clueweb12-1106wb-16-17437   \n",
       "1  1111  does computer work increase eye pressure   clueweb12-0302wb-19-28258   \n",
       "2  1111  does computer work increase eye pressure   clueweb12-1212wb-00-02238   \n",
       "\n",
       "                                                text  \n",
       "0  Eyes hurt looking computer screen\\n\\n\\n\\nEyes ...  \n",
       "1  How the Eye Works\\n\\n\\n\\nHow the Eye Works\\n\\n...  \n",
       "2  How the Eye Works\\n\\n\\n\\nHow the Eye Works\\n\\n...  "
      ]
     },
     "execution_count": 2,
     "metadata": {},
     "output_type": "execute_result"
    }
   ],
   "source": [
    "df_rerank.head(3)"
   ]
  },
  {
   "cell_type": "markdown",
   "id": "169b2218-38ec-4c3d-80a7-b144ecd4cc02",
   "metadata": {},
   "source": [
    "### Step 2: Define the actual retrieval appraoch"
   ]
  },
  {
   "cell_type": "code",
   "execution_count": 3,
   "id": "eb38488f-a6bb-4960-a1c2-680fead6465d",
   "metadata": {},
   "outputs": [],
   "source": [
    "bm25_scorer = pt.text.scorer(body_attr=\"text\", wmodel='BM25', verbose=True)\n"
   ]
  },
  {
   "cell_type": "markdown",
   "id": "a7315abd-5fb1-478c-b8f6-5970dbfb7e5c",
   "metadata": {},
   "source": [
    "### Step 3: Run the pipeline"
   ]
  },
  {
   "cell_type": "code",
   "execution_count": 4,
   "id": "1a7b340c-0001-4480-9466-7e34c5f83dcc",
   "metadata": {},
   "outputs": [
    {
     "name": "stderr",
     "output_type": "stream",
     "text": [
      "31documents [00:00, 51.98documents/s]                                                                                                             \n",
      "BR(BM25):   0%|                                                                                                              | 0/3 [00:00<?, ?q/s]"
     ]
    },
    {
     "name": "stdout",
     "output_type": "stream",
     "text": [
      "08:40:23.375 [main] WARN org.terrier.querying.ApplyTermPipeline - The index has no termpipelines configuration, and no control configuration is found. Defaulting to global termpipelines configuration of 'Stopwords,PorterStemmer'. Set a termpipelines control to remove this warning.\n"
     ]
    },
    {
     "name": "stderr",
     "output_type": "stream",
     "text": [
      "BR(BM25): 100%|██████████████████████████████████████████████████████████████████████████████████████████████████████| 3/3 [00:00<00:00, 23.14q/s]\n"
     ]
    },
    {
     "data": {
      "text/html": [
       "<div>\n",
       "<style scoped>\n",
       "    .dataframe tbody tr th:only-of-type {\n",
       "        vertical-align: middle;\n",
       "    }\n",
       "\n",
       "    .dataframe tbody tr th {\n",
       "        vertical-align: top;\n",
       "    }\n",
       "\n",
       "    .dataframe thead th {\n",
       "        text-align: right;\n",
       "    }\n",
       "</style>\n",
       "<table border=\"1\" class=\"dataframe\">\n",
       "  <thead>\n",
       "    <tr style=\"text-align: right;\">\n",
       "      <th></th>\n",
       "      <th>qid</th>\n",
       "      <th>docno</th>\n",
       "      <th>text</th>\n",
       "      <th>rank</th>\n",
       "      <th>score</th>\n",
       "      <th>query</th>\n",
       "    </tr>\n",
       "  </thead>\n",
       "  <tbody>\n",
       "    <tr>\n",
       "      <th>0</th>\n",
       "      <td>1111</td>\n",
       "      <td>clueweb12-1106wb-16-17437</td>\n",
       "      <td>Eyes hurt looking computer screen\\n\\n\\n\\nEyes ...</td>\n",
       "      <td>0</td>\n",
       "      <td>-1.692322</td>\n",
       "      <td>does computer work increase eye pressure</td>\n",
       "    </tr>\n",
       "    <tr>\n",
       "      <th>1</th>\n",
       "      <td>1111</td>\n",
       "      <td>clueweb12-0302wb-19-28258</td>\n",
       "      <td>How the Eye Works\\n\\n\\n\\nHow the Eye Works\\n\\n...</td>\n",
       "      <td>1</td>\n",
       "      <td>-2.768820</td>\n",
       "      <td>does computer work increase eye pressure</td>\n",
       "    </tr>\n",
       "    <tr>\n",
       "      <th>2</th>\n",
       "      <td>1111</td>\n",
       "      <td>clueweb12-1212wb-00-02238</td>\n",
       "      <td>How the Eye Works\\n\\n\\n\\nHow the Eye Works\\n\\n...</td>\n",
       "      <td>2</td>\n",
       "      <td>-2.768820</td>\n",
       "      <td>does computer work increase eye pressure</td>\n",
       "    </tr>\n",
       "  </tbody>\n",
       "</table>\n",
       "</div>"
      ],
      "text/plain": [
       "    qid                      docno  \\\n",
       "0  1111  clueweb12-1106wb-16-17437   \n",
       "1  1111  clueweb12-0302wb-19-28258   \n",
       "2  1111  clueweb12-1212wb-00-02238   \n",
       "\n",
       "                                                text  rank     score  \\\n",
       "0  Eyes hurt looking computer screen\\n\\n\\n\\nEyes ...     0 -1.692322   \n",
       "1  How the Eye Works\\n\\n\\n\\nHow the Eye Works\\n\\n...     1 -2.768820   \n",
       "2  How the Eye Works\\n\\n\\n\\nHow the Eye Works\\n\\n...     2 -2.768820   \n",
       "\n",
       "                                       query  \n",
       "0  does computer work increase eye pressure   \n",
       "1  does computer work increase eye pressure   \n",
       "2  does computer work increase eye pressure   "
      ]
     },
     "execution_count": 4,
     "metadata": {},
     "output_type": "execute_result"
    }
   ],
   "source": [
    "run = bm25_scorer(df_rerank)\n",
    "run.head(3)"
   ]
  },
  {
   "cell_type": "markdown",
   "id": "4ec396ab-ac8b-4e71-840d-514d4b6b659a",
   "metadata": {},
   "source": [
    "### Step 4: Stence Detection"
   ]
  },
  {
   "cell_type": "code",
   "execution_count": 6,
   "id": "53e9dc7a-7136-404c-8816-16660412a5cc",
   "metadata": {},
   "outputs": [
    {
     "name": "stdout",
     "output_type": "stream",
     "text": [
      "Step 4: Define stence detection\n"
     ]
    }
   ],
   "source": [
    "print('Step 4: Define stence detection')\n",
    "\n",
    "def detect_stance(query_document_pair):\n",
    "    # As baseline, we return always neutral\n",
    "    return 'NEU'\n",
    "\n",
    "run['Q0'] = run.apply(lambda i: detect_stance(i), axis=1)\n"
   ]
  },
  {
   "cell_type": "markdown",
   "id": "0fbff470-0907-4864-8795-6ea4ec8f9586",
   "metadata": {},
   "source": [
    "### Step 5: Persist results"
   ]
  },
  {
   "cell_type": "code",
   "execution_count": 8,
   "id": "f23fac24-097c-4036-8e76-265e6be004bc",
   "metadata": {},
   "outputs": [
    {
     "name": "stdout",
     "output_type": "stream",
     "text": [
      "Step 5: Persist Run.\n",
      "Done...\n"
     ]
    }
   ],
   "source": [
    "print('Step 5: Persist Run.')\n",
    "\n",
    "persist_and_normalize_run(run, 'bm25-re-rank-baseline', output_file=output_directory + '/run.txt')\n",
    "\n",
    "print('Done...')"
   ]
  },
  {
   "cell_type": "code",
   "execution_count": 9,
   "id": "8c083504-1e3a-494d-8728-9bafd3326cab",
   "metadata": {},
   "outputs": [
    {
     "name": "stdout",
     "output_type": "stream",
     "text": [
      "1111 NEU clueweb12-1106wb-16-17437 1 -1.6923219067023894 bm25-re-rank-baseline\n",
      "1111 NEU clueweb12-1212wb-00-02238 2 -2.768819661029173 bm25-re-rank-baseline\n",
      "1111 NEU clueweb12-0302wb-19-28258 3 -2.768819661029173 bm25-re-rank-baseline\n"
     ]
    }
   ],
   "source": [
    "!head -3 {output_directory}/run.txt"
   ]
  }
 ],
 "metadata": {
  "kernelspec": {
   "display_name": "Python 3 (ipykernel)",
   "language": "python",
   "name": "python3"
  },
  "language_info": {
   "codemirror_mode": {
    "name": "ipython",
    "version": 3
   },
   "file_extension": ".py",
   "mimetype": "text/x-python",
   "name": "python",
   "nbconvert_exporter": "python",
   "pygments_lexer": "ipython3",
   "version": "3.7.13"
  }
 },
 "nbformat": 4,
 "nbformat_minor": 5
}
