{
 "cells": [
  {
   "cell_type": "markdown",
   "id": "8c3da078-f7fc-4d37-904c-532bb26d4321",
   "metadata": {},
   "source": [
    "# PyTerrier Starter: Full-Rank with ChatNoir for Task 2 in Touche 2023\n",
    "\n",
    "This is the [PyTerrier](https://github.com/terrier-org/pyterrier) baseline for [task 2 on Evidence Retrieval for Causal Questions](https://touche.webis.de/clef23/touche23-web/evidence-retrieval-for-causal-questions.html) in [Touché 2023](https://touche.webis.de/clef23/touche23-web/).\n",
    "\n",
    "This notebook implements \"full-rank\" retrieval with ChatNoir so that the results retrieved by ChatNoir can be easily re-ranked.\n",
    "\n",
    "### Adapt the notebook locally\n",
    "\n",
    "You can adapt/run this baseline locally with docker and can directly deploy and run it in [TIRA.io](https://www.tira.io/task/touche-2023-task-2).\n",
    "\n",
    "With docker installed, you can start this notebook with the command:\n",
    "\n",
    "```\n",
    "docker run --rm -ti \\\n",
    "    -p 8888:8888 \\\n",
    "    -v ${PWD}:/workspace \\\n",
    "    webis/tira-touche23-task-2-pyterrier-baseline:0.0.2 \\\n",
    "    jupyter-lab --allow-root --ip 0.0.0.0\n",
    "```\n",
    "\n",
    "### Deployment in TIRA\n",
    "\n",
    "To deploy approaches in TIRA, you upload the image and specify the command that is to be executed in the image. TIRA gives you a personalized documentation on how to upload the image, and to run this notebook in TIRA you can specify the following command in TIRA:\n",
    "\n",
    "```\n",
    "/workspace/run-pyterrier-notebook.py --notebook /workspace/full-rank-pipeline.ipynb --input $inputDataset --output $outputDir\n",
    "```\n",
    "\n",
    "You can dry-run this on your machine by executing the command:\n",
    "\n",
    "```\n",
    "tira-run \\\n",
    "    --input-directory ${PWD}/sample-input/full-rank \\\n",
    "    --image webis/tira-touche23-task-2-pyterrier-baseline:0.0.2 \\\n",
    "    --command '/workspace/run-pyterrier-notebook.py --notebook /workspace/full-rank-pipeline.ipynb --input $inputDataset --output $outputDir'\n",
    "```\n",
    "\n",
    "In this example above, the command `/workspace/run-pyterrier-notebook.py --notebook /workspace/full-rank-pipeline.ipynb --input $inputDataset --output $outputDir` is the command that you would enter in TIRA, and the `--input-directory` flag points to the inputs.\n",
    "\n",
    "This creates a run file `tira-output/run.txt`, with content like (`cat sample-output/run.txt |head -3`):\n",
    "\n",
    "```\n",
    "1 NEU clueweb12-1106wb-16-17437 1 1182.2903 chatnoir-baseline\n",
    "1 NEU clueweb12-0302wb-19-28258 2 1168.2012 chatnoir-baseline\n",
    "1 NEU clueweb12-1212wb-00-02238 3 1167.9583 chatnoir-baseline\n",
    "```\n",
    "\n",
    "\n",
    "### Additional Resources\n",
    "\n",
    "- The [PyTerrier tutorial](https://github.com/terrier-org/ecir2021tutorial)\n",
    "- The [PyTerrier documentation](https://pyterrier.readthedocs.io/en/latest/)\n",
    "- The [TIRA quickstart](https://touche.webis.de/clef23/touche23-web/evidence-retrieval-for-causal-questions.html#tira-quickstart)\n",
    "\n"
   ]
  },
  {
   "cell_type": "markdown",
   "id": "66fd2911-c97a-4f91-af28-8c7e381573b6",
   "metadata": {},
   "source": [
    "### Step 1: Import Dependencies"
   ]
  },
  {
   "cell_type": "code",
   "execution_count": 2,
   "id": "7ae3c54f-aba1-45bf-b074-e78a99f6405f",
   "metadata": {},
   "outputs": [
    {
     "name": "stdout",
     "output_type": "stream",
     "text": [
      "I will use a small hardcoded example located in /workspace/sample-input/full-rank.\n",
      "The output directory is /tmp/\n",
      "ChatNoir Client will retrieve the top-1000 with page size of 1000 from index ClueWeb22 with 25 retries.\n"
     ]
    }
   ],
   "source": [
    "import pyterrier as pt\n",
    "import pandas as pd\n",
    "from tira.third_party_integrations import ensure_pyterrier_is_loaded, get_preconfigured_chatnoir_client, get_input_directory_and_output_directory, persist_and_normalize_run\n",
    "import json\n",
    "from tqdm import tqdm\n",
    "\n",
    "ensure_pyterrier_is_loaded()\n",
    "input_directory, output_directory = get_input_directory_and_output_directory('/workspace/sample-input/full-rank')\n",
    "\n",
    "chatnoir = get_preconfigured_chatnoir_client(config_directory = input_directory, features = [], verbose = True, num_results=1000, page_size=1000)"
   ]
  },
  {
   "cell_type": "markdown",
   "id": "8c563b0e-97ac-44a2-ba2f-18858f1506bb",
   "metadata": {},
   "source": [
    "### Step 2: Load the Data"
   ]
  },
  {
   "cell_type": "code",
   "execution_count": 3,
   "id": "e35230af-66ec-4607-a97b-127bd890fa59",
   "metadata": {},
   "outputs": [
    {
     "name": "stdout",
     "output_type": "stream",
     "text": [
      "Step 2: Load the data.\n"
     ]
    }
   ],
   "source": [
    "print('Step 2: Load the data.')\n",
    "\n",
    "queries = pt.io.read_topics(input_directory + '/queries.xml', format='trecxml')"
   ]
  },
  {
   "cell_type": "markdown",
   "id": "806c4638-ccee-4470-a74c-2a85d9ee2cfc",
   "metadata": {},
   "source": [
    "### Step 3: Create Run"
   ]
  },
  {
   "cell_type": "code",
   "execution_count": 4,
   "id": "a191f396-e896-4792-afaf-574e452640f5",
   "metadata": {},
   "outputs": [
    {
     "name": "stdout",
     "output_type": "stream",
     "text": [
      "Step 3: Create Run.\n"
     ]
    },
    {
     "name": "stderr",
     "output_type": "stream",
     "text": [
      "Searching with ChatNoir: 100%|███████████████████████████████████████████████████████████████████████████████████| 3/3 [02:17<00:00, 45.98s/query]\n"
     ]
    }
   ],
   "source": [
    "print('Step 3: Create Run.')\n",
    "run = chatnoir(queries)"
   ]
  },
  {
   "cell_type": "code",
   "execution_count": 5,
   "id": "c0e07fca-de98-4de2-b6a7-abfd516c652c",
   "metadata": {},
   "outputs": [
    {
     "data": {
      "text/html": [
       "<div>\n",
       "<style scoped>\n",
       "    .dataframe tbody tr th:only-of-type {\n",
       "        vertical-align: middle;\n",
       "    }\n",
       "\n",
       "    .dataframe tbody tr th {\n",
       "        vertical-align: top;\n",
       "    }\n",
       "\n",
       "    .dataframe thead th {\n",
       "        text-align: right;\n",
       "    }\n",
       "</style>\n",
       "<table border=\"1\" class=\"dataframe\">\n",
       "  <thead>\n",
       "    <tr style=\"text-align: right;\">\n",
       "      <th></th>\n",
       "      <th>qid</th>\n",
       "      <th>query</th>\n",
       "      <th>docno</th>\n",
       "      <th>score</th>\n",
       "      <th>rank</th>\n",
       "    </tr>\n",
       "  </thead>\n",
       "  <tbody>\n",
       "    <tr>\n",
       "      <th>1000</th>\n",
       "      <td>2</td>\n",
       "      <td>does regular exercise lower blood pressure</td>\n",
       "      <td>clueweb22-en0037-54-15622</td>\n",
       "      <td>3306.2217</td>\n",
       "      <td>0</td>\n",
       "    </tr>\n",
       "    <tr>\n",
       "      <th>1001</th>\n",
       "      <td>2</td>\n",
       "      <td>does regular exercise lower blood pressure</td>\n",
       "      <td>clueweb22-en0010-17-05649</td>\n",
       "      <td>3057.9604</td>\n",
       "      <td>1</td>\n",
       "    </tr>\n",
       "    <tr>\n",
       "      <th>1002</th>\n",
       "      <td>2</td>\n",
       "      <td>does regular exercise lower blood pressure</td>\n",
       "      <td>clueweb22-en0012-40-06930</td>\n",
       "      <td>2979.3528</td>\n",
       "      <td>2</td>\n",
       "    </tr>\n",
       "  </tbody>\n",
       "</table>\n",
       "</div>"
      ],
      "text/plain": [
       "     qid                                        query  \\\n",
       "1000   2   does regular exercise lower blood pressure   \n",
       "1001   2   does regular exercise lower blood pressure   \n",
       "1002   2   does regular exercise lower blood pressure   \n",
       "\n",
       "                          docno      score  rank  \n",
       "1000  clueweb22-en0037-54-15622  3306.2217     0  \n",
       "1001  clueweb22-en0010-17-05649  3057.9604     1  \n",
       "1002  clueweb22-en0012-40-06930  2979.3528     2  "
      ]
     },
     "execution_count": 5,
     "metadata": {},
     "output_type": "execute_result"
    }
   ],
   "source": [
    "run.head(3)"
   ]
  },
  {
   "cell_type": "markdown",
   "id": "eb2a0f96-ec7b-433d-9578-5caeddf044e1",
   "metadata": {},
   "source": [
    "### Step 4: Stence Detection"
   ]
  },
  {
   "cell_type": "code",
   "execution_count": 6,
   "id": "8c5a31ba-5008-4665-9e22-86dd63e07eb1",
   "metadata": {},
   "outputs": [
    {
     "name": "stdout",
     "output_type": "stream",
     "text": [
      "Step 4: Run stence detection\n"
     ]
    }
   ],
   "source": [
    "print('Step 4: Run stence detection')\n",
    "\n",
    "def detect_stance(query_document_pair):\n",
    "    # As baseline, we return always neutral\n",
    "    return 'NEU'\n",
    "\n",
    "run['Q0'] = run.apply(lambda i: detect_stance(i), axis=1)\n"
   ]
  },
  {
   "cell_type": "markdown",
   "id": "28c40a2e-0f96-4ae8-aa5e-55a5e7ef9dee",
   "metadata": {},
   "source": [
    "### Step 5: Persist Run"
   ]
  },
  {
   "cell_type": "code",
   "execution_count": 7,
   "id": "12e5bb42-ed1f-41ba-b7a5-cb43ebca96f6",
   "metadata": {},
   "outputs": [
    {
     "name": "stdout",
     "output_type": "stream",
     "text": [
      "Step 5: Persist Run.\n",
      "Done...\n"
     ]
    }
   ],
   "source": [
    "print('Step 5: Persist Run.')\n",
    "\n",
    "persist_and_normalize_run(run, 'chatnoir-baseline', output_file=output_directory + '/run.txt')\n",
    "\n",
    "print('Done...')"
   ]
  },
  {
   "cell_type": "code",
   "execution_count": 8,
   "id": "c0d96fc7-2f9c-421a-92f9-a5b32bca696c",
   "metadata": {},
   "outputs": [
    {
     "name": "stdout",
     "output_type": "stream",
     "text": [
      "1 NEU clueweb22-en0035-94-10429 1 1693.283 chatnoir-baseline\n",
      "1 NEU clueweb22-en0044-02-00366 2 1539.9128 chatnoir-baseline\n",
      "1 NEU clueweb22-en0031-00-09280 3 1405.4568 chatnoir-baseline\n"
     ]
    }
   ],
   "source": [
    "!head -3 {output_directory}/run.txt"
   ]
  }
 ],
 "metadata": {
  "kernelspec": {
   "display_name": "Python 3 (ipykernel)",
   "language": "python",
   "name": "python3"
  },
  "language_info": {
   "codemirror_mode": {
    "name": "ipython",
    "version": 3
   },
   "file_extension": ".py",
   "mimetype": "text/x-python",
   "name": "python",
   "nbconvert_exporter": "python",
   "pygments_lexer": "ipython3",
   "version": "3.7.13"
  }
 },
 "nbformat": 4,
 "nbformat_minor": 5
}
