{
 "cells": [
  {
   "cell_type": "markdown",
   "id": "8c3da078-f7fc-4d37-904c-532bb26d4321",
   "metadata": {},
   "source": [
    "# PyTerrier Starter: Full-Rank with ChatNoir for Task 2 in Touche 2023\n",
    "\n",
    "This is the [PyTerrier](https://github.com/terrier-org/pyterrier) baseline for [task 2 on Evidence Retrieval for Causal Questions](https://touche.webis.de/clef23/touche23-web/evidence-retrieval-for-causal-questions.html) in [Touché 2023](https://touche.webis.de/clef23/touche23-web/).\n",
    "\n",
    "This notebook implements \"full-rank\" retrieval with ChatNoir so that the results retrieved by ChatNoir can be easily re-ranked.\n",
    "\n",
    "### Adapt the notebook locally\n",
    "\n",
    "You can adapt/run this baseline locally with docker and can directly deploy and run it in [TIRA.io](https://www.tira.io/task/touche-2023-task-2).\n",
    "\n",
    "With docker installed, you can start this notebook with the command:\n",
    "\n",
    "```\n",
    "docker run --rm -ti \\\n",
    "    -p 8888:8888 \\\n",
    "    -v ${PWD}:/workspace \\\n",
    "    webis/tira-touche23-task-2-pyterrier-baseline:0.0.1 \\\n",
    "    jupyter-lab --allow-root --ip 0.0.0.0\n",
    "```\n",
    "\n",
    "### Deployment in TIRA\n",
    "\n",
    "To deploy approaches in TIRA, you upload the image and specify the command that is to be executed in the image. TIRA gives you a personalized documentation on how to upload the image, and to run this notebook in TIRA you can specify the following command in TIRA:\n",
    "\n",
    "```\n",
    "/workspace/run-notebook.py --notebook /workspace/full-rank-pipeline.ipynb --input $inputDataset --output $outputDir\n",
    "```\n",
    "\n",
    "You can dry-run this on your machine by executing the command:\n",
    "\n",
    "```\n",
    "./run-notebook.py \\\n",
    "    --input ${PWD}/sample-input/full-rank \\\n",
    "    --output ${PWD}/sample-output \\\n",
    "    --notebook /workspace/full-rank-pipeline.ipynb \\\n",
    "    --enable-network-in-dry-run True --local-dry-run True\n",
    "```\n",
    "\n",
    "\n",
    "\n",
    "### Additional Resources\n",
    "\n",
    "- The [PyTerrier tutorial](https://github.com/terrier-org/ecir2021tutorial)\n",
    "- The [PyTerrier documentation](https://pyterrier.readthedocs.io/en/latest/)\n",
    "- The [TIRA quickstart](https://touche.webis.de/clef23/touche23-web/evidence-retrieval-for-causal-questions.html#tira-quickstart)\n",
    "\n"
   ]
  },
  {
   "cell_type": "markdown",
   "id": "66fd2911-c97a-4f91-af28-8c7e381573b6",
   "metadata": {},
   "source": [
    "### Step 1: Import everything and load variables"
   ]
  },
  {
   "cell_type": "code",
   "execution_count": 2,
   "id": "7ae3c54f-aba1-45bf-b074-e78a99f6405f",
   "metadata": {},
   "outputs": [
    {
     "name": "stdout",
     "output_type": "stream",
     "text": [
      "I will use a small hardcoded example located in /workspace/sample-input/full-rank.\n",
      "The output directory is /tmp/\n"
     ]
    }
   ],
   "source": [
    "from tira_utils import get_preconfigured_chatnoir_client, get_input_directory_and_output_directory, normalize_run\n",
    "import pyterrier as pt\n",
    "import pandas as pd\n",
    "import os\n",
    "import json\n",
    "from tqdm import tqdm\n",
    "from pathlib import Path\n",
    "\n",
    "SYSTEM_NAME = os.environ.get('TIRA_SYSTEM_NAME' ,'my-retrieval-system')\n",
    "\n",
    "if not pt.started():\n",
    "    # tira_utils above should already have done started pyterrier with this configuration to ensure that no internet connection is required (for reproducibility)\n",
    "    pt.init(version=os.environ['PYTERRIER_VERSION'], helper_version=os.environ['PYTERRIER_HELPER_VERSION'], no_download=True)\n",
    "\n",
    "input_directory, output_directory = get_input_directory_and_output_directory(default_input='/workspace/sample-input/full-rank')\n"
   ]
  },
  {
   "cell_type": "markdown",
   "id": "8c563b0e-97ac-44a2-ba2f-18858f1506bb",
   "metadata": {},
   "source": [
    "### Step 2: Load the Data"
   ]
  },
  {
   "cell_type": "code",
   "execution_count": 3,
   "id": "e35230af-66ec-4607-a97b-127bd890fa59",
   "metadata": {},
   "outputs": [
    {
     "name": "stdout",
     "output_type": "stream",
     "text": [
      "Step 2: Load the data.\n"
     ]
    }
   ],
   "source": [
    "print('Step 2: Load the data.')\n",
    "\n",
    "queries = pd.read_json(input_directory + '/queries.jsonl', lines=True)\n"
   ]
  },
  {
   "cell_type": "markdown",
   "id": "72655916-07fe-4c58-82c1-2f9f93381e7f",
   "metadata": {},
   "source": [
    "### Step 3: Define the Pipeline"
   ]
  },
  {
   "cell_type": "code",
   "execution_count": 4,
   "id": "37e91311-29f9-4309-8de1-2afeaa71c8dc",
   "metadata": {},
   "outputs": [
    {
     "name": "stdout",
     "output_type": "stream",
     "text": [
      "Step 3: Defint the retrieval pipeline.\n",
      "ChatNoir Client will retrieve from index ClueWeb12\n"
     ]
    }
   ],
   "source": [
    "print('Step 3: Defint the retrieval pipeline.')\n",
    "\n",
    "retrieval_pipeline = get_preconfigured_chatnoir_client(\n",
    "    config_directory = input_directory,\n",
    "    features = ['TARGET_URI', 'TITLE_TEXT', 'HTML_PLAIN', 'HTML_PLAIN'],\n",
    "    verbose = True\n",
    ")"
   ]
  },
  {
   "cell_type": "markdown",
   "id": "806c4638-ccee-4470-a74c-2a85d9ee2cfc",
   "metadata": {},
   "source": [
    "### Step 4: Create Run"
   ]
  },
  {
   "cell_type": "code",
   "execution_count": 5,
   "id": "a191f396-e896-4792-afaf-574e452640f5",
   "metadata": {},
   "outputs": [
    {
     "name": "stdout",
     "output_type": "stream",
     "text": [
      "Step 4: Create Run.\n"
     ]
    },
    {
     "name": "stderr",
     "output_type": "stream",
     "text": [
      "Searching with ChatNoir: 100%|███████████████████████████████████████████████████████████████████████████████████| 3/3 [00:12<00:00,  4.31s/query]ChatNoir API internal server error. Retrying in 1 seconds.\n",
      "Searching with ChatNoir: 100%|███████████████████████████████████████████████████████████████████████████████████| 3/3 [00:37<00:00, 12.52s/query]\n"
     ]
    }
   ],
   "source": [
    "print('Step 4: Create Run.')\n",
    "run = retrieval_pipeline(queries)"
   ]
  },
  {
   "cell_type": "code",
   "execution_count": 6,
   "id": "c0e07fca-de98-4de2-b6a7-abfd516c652c",
   "metadata": {},
   "outputs": [
    {
     "data": {
      "text/html": [
       "<div>\n",
       "<style scoped>\n",
       "    .dataframe tbody tr th:only-of-type {\n",
       "        vertical-align: middle;\n",
       "    }\n",
       "\n",
       "    .dataframe tbody tr th {\n",
       "        vertical-align: top;\n",
       "    }\n",
       "\n",
       "    .dataframe thead th {\n",
       "        text-align: right;\n",
       "    }\n",
       "</style>\n",
       "<table border=\"1\" class=\"dataframe\">\n",
       "  <thead>\n",
       "    <tr style=\"text-align: right;\">\n",
       "      <th></th>\n",
       "      <th>qid</th>\n",
       "      <th>query</th>\n",
       "      <th>docno</th>\n",
       "      <th>score</th>\n",
       "      <th>target_uri</th>\n",
       "      <th>title_text</th>\n",
       "      <th>html_plain</th>\n",
       "      <th>rank</th>\n",
       "    </tr>\n",
       "  </thead>\n",
       "  <tbody>\n",
       "    <tr>\n",
       "      <th>0</th>\n",
       "      <td>1111</td>\n",
       "      <td>does computer work increase eye pressure?</td>\n",
       "      <td>clueweb12-1106wb-16-17437</td>\n",
       "      <td>1182.2903</td>\n",
       "      <td>http://www.pingueculae.com/eye-strain-informat...</td>\n",
       "      <td>Eyes hurt looking computer screen</td>\n",
       "      <td>&lt;!doctype html&gt;\\n&lt;meta charset=\"utf-8\"&gt;\\n&lt;titl...</td>\n",
       "      <td>0</td>\n",
       "    </tr>\n",
       "    <tr>\n",
       "      <th>1</th>\n",
       "      <td>1111</td>\n",
       "      <td>does computer work increase eye pressure?</td>\n",
       "      <td>clueweb12-0302wb-19-28258</td>\n",
       "      <td>1168.2012</td>\n",
       "      <td>https://www.vsp.com/cms/edc/topics/how-the-eye...</td>\n",
       "      <td>How the Eye Works</td>\n",
       "      <td>&lt;!doctype html&gt;\\n&lt;meta charset=\"utf-8\"&gt;\\n&lt;titl...</td>\n",
       "      <td>1</td>\n",
       "    </tr>\n",
       "    <tr>\n",
       "      <th>2</th>\n",
       "      <td>1111</td>\n",
       "      <td>does computer work increase eye pressure?</td>\n",
       "      <td>clueweb12-1212wb-00-02238</td>\n",
       "      <td>1167.9583</td>\n",
       "      <td>https://vsp.com/cms/edc/topics/how-the-eye-wor...</td>\n",
       "      <td>How the Eye Works</td>\n",
       "      <td>&lt;!doctype html&gt;\\n&lt;meta charset=\"utf-8\"&gt;\\n&lt;titl...</td>\n",
       "      <td>2</td>\n",
       "    </tr>\n",
       "  </tbody>\n",
       "</table>\n",
       "</div>"
      ],
      "text/plain": [
       "    qid                                      query                      docno  \\\n",
       "0  1111  does computer work increase eye pressure?  clueweb12-1106wb-16-17437   \n",
       "1  1111  does computer work increase eye pressure?  clueweb12-0302wb-19-28258   \n",
       "2  1111  does computer work increase eye pressure?  clueweb12-1212wb-00-02238   \n",
       "\n",
       "       score                                         target_uri  \\\n",
       "0  1182.2903  http://www.pingueculae.com/eye-strain-informat...   \n",
       "1  1168.2012  https://www.vsp.com/cms/edc/topics/how-the-eye...   \n",
       "2  1167.9583  https://vsp.com/cms/edc/topics/how-the-eye-wor...   \n",
       "\n",
       "                          title_text  \\\n",
       "0  Eyes hurt looking computer screen   \n",
       "1                  How the Eye Works   \n",
       "2                  How the Eye Works   \n",
       "\n",
       "                                          html_plain  rank  \n",
       "0  <!doctype html>\\n<meta charset=\"utf-8\">\\n<titl...     0  \n",
       "1  <!doctype html>\\n<meta charset=\"utf-8\">\\n<titl...     1  \n",
       "2  <!doctype html>\\n<meta charset=\"utf-8\">\\n<titl...     2  "
      ]
     },
     "execution_count": 6,
     "metadata": {},
     "output_type": "execute_result"
    }
   ],
   "source": [
    "run.head(3)"
   ]
  },
  {
   "cell_type": "markdown",
   "id": "eb2a0f96-ec7b-433d-9578-5caeddf044e1",
   "metadata": {},
   "source": [
    "### Step 5: Stence Detection"
   ]
  },
  {
   "cell_type": "code",
   "execution_count": 7,
   "id": "8c5a31ba-5008-4665-9e22-86dd63e07eb1",
   "metadata": {},
   "outputs": [
    {
     "name": "stdout",
     "output_type": "stream",
     "text": [
      "Step 5: Run stence detection\n"
     ]
    }
   ],
   "source": [
    "print('Step 5: Run stence detection')\n",
    "\n",
    "def detect_stance(query_document_pair):\n",
    "    # As baseline, we return always neutral\n",
    "    return 'NEU'\n",
    "\n",
    "run['Q0'] = run.apply(lambda i: detect_stance(i), axis=1)\n"
   ]
  },
  {
   "cell_type": "markdown",
   "id": "28c40a2e-0f96-4ae8-aa5e-55a5e7ef9dee",
   "metadata": {},
   "source": [
    "### Step 6: Persist Run"
   ]
  },
  {
   "cell_type": "code",
   "execution_count": 9,
   "id": "12e5bb42-ed1f-41ba-b7a5-cb43ebca96f6",
   "metadata": {},
   "outputs": [
    {
     "name": "stdout",
     "output_type": "stream",
     "text": [
      "Step 6: Persist Run.\n",
      "Done...\n"
     ]
    }
   ],
   "source": [
    "print('Step 6: Persist Run.')\n",
    "\n",
    "Path(output_directory).mkdir(parents=True, exist_ok=True)\n",
    "normalize_run(run, SYSTEM_NAME).to_csv(output_directory + '/run.txt', sep=' ', header=False, index=False)\n",
    "\n",
    "print('Done...')"
   ]
  }
 ],
 "metadata": {
  "kernelspec": {
   "display_name": "Python 3 (ipykernel)",
   "language": "python",
   "name": "python3"
  },
  "language_info": {
   "codemirror_mode": {
    "name": "ipython",
    "version": 3
   },
   "file_extension": ".py",
   "mimetype": "text/x-python",
   "name": "python",
   "nbconvert_exporter": "python",
   "pygments_lexer": "ipython3",
   "version": "3.7.13"
  }
 },
 "nbformat": 4,
 "nbformat_minor": 5
}
