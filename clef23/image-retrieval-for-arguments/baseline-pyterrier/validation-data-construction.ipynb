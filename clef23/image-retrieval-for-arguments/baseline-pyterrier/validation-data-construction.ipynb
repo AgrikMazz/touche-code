{
 "cells": [
  {
   "cell_type": "code",
   "execution_count": 3,
   "id": "786bf5df-6a28-4c48-948a-d6308cf9a498",
   "metadata": {},
   "outputs": [],
   "source": [
    "import ir_datasets\n",
    "\n",
    "dataset = ir_datasets.load(\"touche-image/2022-06-13/touche-2022-task-3\")"
   ]
  },
  {
   "cell_type": "code",
   "execution_count": 4,
   "id": "2bfca763-6249-4edd-a798-72bd41d18a0e",
   "metadata": {},
   "outputs": [
    {
     "name": "stderr",
     "output_type": "stream",
     "text": [
      "[INFO] [starting] https://zenodo.org/record/6873575/files/topics.xml\n",
      "[INFO] [finished] https://zenodo.org/record/6873575/files/topics.xml: [00:00] [31.1kB] [11.1MB/s]\n",
      "                                                                               "
     ]
    },
    {
     "name": "stdout",
     "output_type": "stream",
     "text": [
      "ToucheQuery(query_id='1', title='Should teachers get tenure?', description=\"A user has heard that some countries do give teachers tenure and others don't. Interested in the reasoning for or against tenure, the user searches for positive and negative arguments. The situation of school teachers vs. university professors is of interest.\", narrative=\"Highly relevant arguments make a clear statement about tenure for teachers in schools or universities. Relevant arguments consider tenure more generally, not specifically for teachers, or, instead of talking about tenure, consider the situation of teachers' financial independence.\")\n",
      "ToucheQuery(query_id='2', title='Is vaping with e-cigarettes safe?', description='When considering to switch from smoking to vaping, a user wonders to what extent vaping is safer and what new risks may be involved. Compared to smoking, where the risks are clear, vaping is marketed to have only benefits, and this raises doubts.', narrative='Highly relevant arguments support or deny the safety of vaping and give valid reasons. Relevant arguments argue for or against vaping instead of its safety, vaping only in comparison to smoking, or with respect to health effects of drug addiction (i.e., nicotine).')\n",
      "ToucheQuery(query_id='3', title='Should insider trading be allowed?', description='Since many marketplaces are liberalized, the user asks why this is not also the case for situations where some have better (i.e., inside) knowledge about a company. The rule that insiders should not exploit their knowledge appears to be arbitrary and born out of envy.', narrative='Highly relevant arguments argue for or against permitting insider trading, citing cogent and valid reasons. Relevant arguments include ones that argue ideologically, emotionally, illogically, or otherwise biased.')\n",
      "ToucheQuery(query_id='4', title='Should corporal punishment be used in schools?', description=\"Discipline in schools is associated with better learning, and continued disruption by individuals spoils the other students' learning success. A user wonders whether corporal punishment would help to discipline disrupting individuals, providing a long-lasting effect.\", narrative='Highly relevant arguments include ones that argue pro or con the use of corporal punishment with regard to specific situations, or that consider the effects of this disciplinary measure on students. Relevant arguments are anecdotal ones or those that argue about punishment in general rather than corporal punishment.')\n",
      "ToucheQuery(query_id='5', title='Should social security be privatized?', description='The costs of social security are enormous, and a lot is due to large government organizations and inflated bureaucracy. A user considers whether privatizing social security systems would be beneficial, reducing costs due to market competition, while maintaining the positive impact on society.', narrative='Highly relevant arguments take the pro or con sides of privatization of social security in general, or specific parts of the system, and provide reasons. Relevant arguments discuss privatization in general, bureaucracy costs, or are emotional or erratic about the subject.')\n",
      "ToucheQuery(query_id='6', title='Is a college education worth it?', description='A lot of educational resources can be found online these days, and hardly any MINT company will pay a lot of attention to college degrees as long as one demonstrates skill. Thus, a user wonders why bother getting a college degree.', narrative='Highly relevant arguments make a statement on the worthiness of college education in a particular work context, e.g., MINT. Relevant arguments talk about the benefits of a formal education alone, or problems related to the current system.')\n",
      "ToucheQuery(query_id='7', title='Should felons who have completed their sentence be allowed to vote?', description='People who committed a serious crime have positioned themselves opposite of societal norms. A user wonders whether people who have thus openly distanced themselves from some of the most basic values of society should still be allowed to influence the outcome of elections.', narrative='Highly relevant arguments consider reasons for or against voting rights for felons, possibly distinguishing different kinds of felony. Relevant arguments discuss human rights of felons without considering voting rights, or fairness of voting rights in context of different limitations.')\n",
      "ToucheQuery(query_id='8', title='Should abortion be legal?', description='It is an open question at what point human life begins from the moment of conception onwards, and hence, when the rights of the unborn child outweigh those of its mother. Conversely, the mother of an unwanted child as well as the child might suffer for years. A user wonders whether abortion should therefore be legal.', narrative='Highly relevant arguments take a stance for or against the legality of abortion, citing well-founded reasons. Relevant arguments do so, too, but less well-founded in reason (e.g., anecdotal, emotional, erratic).')\n",
      "ToucheQuery(query_id='9', title='Should students have to wear school uniforms?', description='Promoting equality is a key goal at school, and school uniforms are frequently cited as a measure to accomplish this. In many countries, school uniforms are the norm, whereas in others this is not the case. A user wonders whether school uniforms should be introduced in their country.', narrative='Highly relevant arguments consider the benefits or downsides of school uniforms as a basis for arriving at a conclusion regarding the question. Relevant arguments take a broader perspective on uniforms, or on school uniforms in context of other measures to promote equality.')\n",
      "ToucheQuery(query_id='10', title='Should any vaccines be required for children?', description='Anti-vaccination movements are on the rise, and so are pathogens like measles again. The freedom to not vaccinate paired with rampant disinformation may be a threat to society at large, and for children in particular. A users thus wonders, whether there are vaccines that should be mandatory.', narrative='Highly relevant arguments name one or more vaccines and reason about the (un)necessity to administer them to children. Relevant arguments talk about vaccination for children in general.')\n",
      "ToucheQuery(query_id='11', title='Should performance-enhancing drugs be accepted in sports?', description='Sports has always been used as a measure of human capabilities, whereas professional athletes are often so close to each other performance-wise that small benefits due to drugs can make all the difference. At the same time, drug control in sports is expensive and often unreliable, as well as riddled with political influence. A user wonders why it is not left to the athlete to decide whether or not to use drugs.', narrative='Highly relevant arguments make a case for or against performance-enhancing drugs in sports. Relevant arguments talk about any form of performance-enhancements that may also be due to technology rather than drugs, or compare sports with other domains where drugs are used to enhance performance.')\n",
      "ToucheQuery(query_id='12', title='Should birth control pills be available over the counter?', description=\"The easy access to birth control pills may have repercussions on people's everyday behavior in taking precautions, while disregarding negative side effects. A user wonders whether birth control pills should be prescription drugs, so that doctors have a chance of explaining them to their users.\", narrative='Highly relevant arguments argue for or against the availability of birth control pills without prescription. Relevant arguments argue with regard to birth control pills and their side effects only. Arguments only arguing for or against birth control are irrelevant.')\n",
      "ToucheQuery(query_id='13', title='Can alternative energy effectively replace fossil fuels?', description='Given the ongoing anthropogenic climate change, fossil fuels are supposed to be replaced with other energy sources. The question remains, for a given user, which ones, and whether all non-fossil energy sources put together can effectively replace fossil fuels.', narrative='Highly relevant arguments argue for or against the thesis that fossil fuels can be entirely replaced, citing valid reasons or facts. Relevant arguments discuss only one form of alternative energy against fossil fuels.')\n",
      "ToucheQuery(query_id='14', title='Is sexual orientation determined at birth?', description=\"Given the fact that homosexuality occurs also in species other than humans, where nurture may have less of an influence over any individual's behavior, a user wonders whether, in humans, the sexuality is determined entirely at birth.\", narrative='Highly relevant arguments include ones that argue for or against the thesis and give reasons. Relevant arguments are those that also exhibit emotionality about the subject, or that intermingle religion or other things not rooted in science.')\n",
      "ToucheQuery(query_id='15', title='Should animals be used for scientific or commercial testing?', description='The development of drugs and cosmetics involves animal testing. A user wonders whether this is really warranted, given the scale at which the test animals suffer today.', narrative='Highly relevant arguments consider all aspects of the thesis and arrive at a positive or negative conclusion. Relevant arguments consider only one of the two aspects of scientific or commercial testing, or do not distinguish the two.')\n",
      "ToucheQuery(query_id='16', title='Should prescription drugs be advertised directly to consumers?', description='A user wonders whether advertising prescription drugs is ethical in terms of offering the patient the best care that can be achieved.', narrative='Highly relevant arguments include those that talk about advertisements in health care, prescription drugs, and consumers. Relevant arguments talk about any subset of these aspects.')\n",
      "ToucheQuery(query_id='17', title='Should recreational marijuana be legal?', description='A user living in a country where marijuana is outlawed, after having visited the Netherlands, wonders why recreational use of the drug is not allowed.', narrative='Highly relevant arguments argue in favor or against legalizing the recreational use. Relevant arguments argue with respect to marijuana for medical use in comparison to recreational use.')\n",
      "ToucheQuery(query_id='18', title='Should churches remain tax-exempt?', description='A user inclined to atheism is wondering why churches are exempt from taxes when not all of their income is for charity.', narrative='Highly relevant arguments take the pro or con side and give valid reasons for either. Relevant arguments talk about tax exemptions for charities, naming churches as examples, or contrast to countries where churches are not tax-exempt.')\n",
      "ToucheQuery(query_id='19', title='Should gay marriage be legal?', description='As a straight person, a user has heard about debates to legalize gay marriage in their country. The user deliberates on the issue and on what may be the reasons for legalizing gay marriage.', narrative='Highly relevant arguments are those that make a reasoned statement about the legality of gay marriage. Relevant arguments argue about gay rights in general, including gay marriage.')\n",
      "ToucheQuery(query_id='20', title='Is drinking milk healthy for humans?', description='Drinking milk is often portrayed as healthy in the media, whereas a user has heard that it also has downsides, not just for lactose-intolerant people. Hence, the question is whether drinking milk can be seen as generally healthy.', narrative='Highly relevant arguments name positive or negative health effects of drinking milk either regularly or in milk-based products. Relevant arguments talk only about lactose intolerance, or warrant their claim with unscientific reasons.')\n",
      "ToucheQuery(query_id='21', title='Is human activity primarily responsible for global climate change?', description='As the evidence that the climate is changing rapidly mounts, a user questions the common belief that climate change is anthropogenic and desires to know whether humans are the primary cause, or whether there are other causes.', narrative='Highly relevant arguments include those that take a stance in favor of or opposed to climate change being anthropogenic and that offer valid reasons for either stance. Relevant arguments talk about human or non-human causes, but not about primary causes. Irrelevant arguments include ones that deny climate change.')\n",
      "ToucheQuery(query_id='22', title='Is a two-state solution an acceptable solution to the Israeli-Palestinian conflict?', description='The conflict between Israel and the Palestinians has been lasting for a long time and it is very complicated. A user wonders whether the proposal of a two-state solution which has been discussed often throughout the conflict is actually a good one.', narrative='Highly relevant arguments deal with the conflict, arrive at a specific resolution regarding the two-state solution, and are based on acceptable reasons. Relevant arguments discuss the two-state solution as one among many, or are emotional or agitated.')\n",
      "ToucheQuery(query_id='23', title='Should euthanasia or physician-assisted suicide be legal?', description=\"As someone who has never been seriously ill, a user is deliberating on whether their party's policy to support euthanasia for people who wish to commit suicide is one to support or oppose.\", narrative='Highly relevant arguments argue in favor of or against the legality of assisted suicide. Relevant arguments argue with respect to moral or ethical problems only, or cite anecdotal evidence, or are strongly emotional about the subject.')\n",
      "ToucheQuery(query_id='24', title='Does lowering the federal corporate income tax rate create jobs?', description='In times of economic crisis, it is usually proposed to lower taxes for companies to stabilize the economy. A user wonders whether lowering income taxes for corporations basically always results in job creation and why.', narrative='Highly relevant arguments specifically discuss corporate income taxes and their effect of job creation when they are lowered. Relevant arguments discuss corporate taxes more generally, or how jobs are created by adjusting them. Irrelevant arguments include ones that discuss taxes in general.')\n",
      "ToucheQuery(query_id='25', title='Should education be free?', description='There is a vast difference between the countries in the world in the costs of higher education. Some think that fees can guarantee a higher quality, the others think that paid education is unfair. A user wonders which system is the best for society: subsidizing the education or not.', narrative='Highly relevant arguments specifically discuss long-term economical consequences of lowering or increasing the cost of higher education. Relevant arguments discuss other levels of education, short-term consequences, or other consequences of such a decision, for example social ones.')\n",
      "ToucheQuery(query_id='26', title='Do standardized tests improve education?', description=\"In a user's country's education system, every state can set their own standards and tests, which is frequently criticized. The user asks whether more centralization, in places where tests are the same everywhere, has a positive net effect on the overall levels of education.\", narrative='Highly relevant arguments include ones that argue for or against standardization with the explicit premise or conclusion of improving or worsening education outcomes. Relevant arguments merely argue for or against standardization, leaving the effects implicit.')\n",
      "ToucheQuery(query_id='27', title='Should more gun control laws be enacted?', description='A user wonders whether the liberal US policy of letting everyone own and carry guns causes more harm than good, and hence whether gun control should be more tightly regulated.', narrative='Highly relevant arguments talk about gun control laws and reasons for introducing more of them, or not. Relevant arguments do so in an agitated or emotional way, or argue for less gun control laws than there are right now.')\n",
      "ToucheQuery(query_id='28', title='Should prostitution be legal?', description='The legalization of prostitution is a delicate subject laden with strong emotions on all sides. A user wonders what are good reasons for prostitution to be legal, or not.', narrative='Highly relevant arguments argue in favor of or opposed to the legality of prostitution. Relevant arguments do so, but in an emotional or illogical way, or not explicitly touching on legality but on other aspects (e.g., health) that may have a bearing on deciding legality.')\n",
      "ToucheQuery(query_id='29', title='Should the government allow illegal immigrants to become citizens?', description=\"Immigrants who crossed the border illegally and now have lived in a user's country for a long time, becoming a part of society, contributing, and even paying taxes, aspire to become legal citizens. The users wonders whether this is a good idea or whether it sets a bad precedent.\", narrative='Highly relevant arguments are those that discuss the benefits or downsides of awarding citizenship to illegal immigrants. Relevant arguments discuss problems related to illegal immigration, mentioning citizenship only as a side note, or discuss the topic in an agitated or emotional way.')\n",
      "ToucheQuery(query_id='30', title='Should adults have the right to carry a concealed handgun?', description='In the United States, in some states, it is allowed to carry guns in public, but only openly, so that others can see them. Other states allow for concealing them. A user wonders whether carrying a concealed handgun is a reasonable measure to protect oneself these days.', narrative='Highly relevant arguments discuss gun carrying rights with respect to handguns and their concealment. Relevant arguments discuss gun carrying either with regard to other kinds of guns, or with reference only to open gun carrying. Irrelevant arguments discuss outlawing gun carrying.')\n",
      "ToucheQuery(query_id='31', title='Is obesity a disease?', description='An increasing number of the population in developed countries are obese and thus suffer from obesity-related health problems. A user wonders if obesity should be classified as a disease, as opposed to, say, a way of life, or life choice.', narrative='Highly relevant arguments are those that discuss obesity, its health issues, arriving at a definite answer to the question, possibly being opposed. Relevant arguments may not clearly state whether obesity is a disease but only cite health issues or only things related to life choices.')\n",
      "ToucheQuery(query_id='32', title='Do electronic voting machines improve the voting process?', description='Digitization has affected most of our everyday lives, but voting still relies on paper ballots. A user wonders what, if anything, the digitization of voting might contribute.', narrative='Highly relevant arguments discuss the benefits or shortcomings of electronic voting versus paper voting. Relevant arguments discuss only one of them or remark on digital voting only in passing.')\n",
      "ToucheQuery(query_id='33', title='Should people become vegetarian?', description=\"Many of a user's friends have become vegetarian recently, and so the user wonders whether this is just a passing trend, or whether it should be promoted in society.\", narrative='Highly relevant arguments include clear statements and reasons whether society at large should become vegetarian or not. Relevant arguments discuss vegetarianism from a standpoint of personal inclination.')\n",
      "ToucheQuery(query_id='34', title='Are social networking sites good for our society?', description='Democracy may be in the process of being disrupted by social media, with the potential creation of individual filter bubbles. So a user wonders if social networking sites should be allowed, regulated, or even banned.', narrative='Highly relevant arguments discuss social networking in general or particular networking sites, and its/their positive or negative effects on society. Relevant arguments discuss how social networking affects people, without explicit reference to society.')\n",
      "ToucheQuery(query_id='35', title='Do violent video games contribute to youth violence?', description='Very often, after a school shooting, the media reports about computer games that the shooter was playing, especially highlighting case examples of violent games. A user wonders whether violent games thus contribute to youth violence in general.', narrative='Highly relevant arguments arrive at a clear verdict as to the effects of violent video games on youth violence, citing valid reasons or research. Relevant arguments cite anecdotal evidence, argue emotionally or agitatedly, or illogically.')\n",
      "ToucheQuery(query_id='36', title='Is golf a sport?', description='The definition of \"sport\" is ambiguous. Many attempts include one kind of activity, but exclude others. A hobby golfer, who has been made fun of by his friends, asks himself whether golf should be counted as a sport.', narrative='Highly relevant arguments argue for or against golf being a sport, citing reasons founded in a clear definition of the term or authoritative sources. Relevant arguments include slander, or mention golf only in passing among examples of other disputed sports.')\n",
      "ToucheQuery(query_id='37', title='Is cell phone radiation safe?', description=\"Cell phones emit significant amounts of radiation, and are carried around on one's body the whole day, even sitting next to one's head on the bedside table. Having heard rumors about cell phone radiation, a user wants to know whether this kind of radiation is safe.\", narrative='Highly relevant arguments explain whether or not cell phone radiation is safe. Relevant arguments discuss everyday radiation exposure in general, mentioning cell phones only as examples.')\n",
      "ToucheQuery(query_id='38', title='Should marijuana be a medical option?', description='Besides its use as a party drug, marijuana has medical uses. A user wonders whether marijuana should be used on a regular basis for medical purposes, and under what conditions.', narrative='Highly relevant arguments discuss marijuana as a medicine, its benefits and shortcomings. Relevant arguments discuss marijuana as one example among other drugs, or mention its medical uses only in passing.')\n",
      "ToucheQuery(query_id='39', title='Should the federal minimum wage be increased?', description='The minimum wage necessary to allow for a living in a country is often a point of discussion. A user wonders if raising the minimum wage is reasonable to allow low-paid workers to live a better life.', narrative='Highly relevant arguments argue for or against raising minimum wages, citing relevant reasons to do so or not. Relevant arguments discuss wages in general, or argue with emotion or agitation.')\n",
      "ToucheQuery(query_id='40', title='Should the death penalty be allowed?', description='Promoters of capital punishment often argue that the death penalty is the ultimate way of preventing extreme crimes. A user wonders why this should be the case and whether this is a sufficient cause to legalize the death penalty.', narrative='Highly relevant arguments make a clear statement about the death penalty and whether it should be allowed, citing valid reasons for or against. Relevant arguments are emotional about the subject, or discuss the death penalty only as an alternative to other punishments.')\n",
      "ToucheQuery(query_id='41', title='Should student loan debt be easier to discharge in bankruptcy?', description='Student tuitions are very high in some countries. If a student is in financial dept on the verge of bankruptcy, a user wonders whether such students should be given more time or lower interest rates to discharge their debt.', narrative='Highly relevant arguments cover all aspects of the question: student loan debt, student bankruptcy after the studies are finished, and relief in the form of easier discharge of the debt, taking a clear pro or con stance. Relevant arguments cover any subset of aspects of the question.')\n",
      "ToucheQuery(query_id='42', title='Should fighting be allowed in hockey?', description='In (ice) hockey, tackling appears to be a key part of the game, causing lots of penalties and lots of injuries. Moreover, the audience seems to expect such violence. A user wonders if it should be allowed.', narrative='Highly relevant arguments discuss whether or not fighting is a key part of the game, giving valid reasons. Relevant arguments discuss fighting in sports in general, mentioning hockey only among other sports, or are emotional or agitated.')\n",
      "ToucheQuery(query_id='43', title='Should bottled water be banned?', description='Tap water is a valid alternative to bottled water. A user wonders why tap water is not the norm, and whether, to safe resources, bottled water should be banned.', narrative='Highly relevant arguments argue for or against bottled water, giving clear reasons for their conclusions. Relevant arguments mention specific kinds of bottled water (e.g., plastic bottles), or drinking water quality and the industry in general.')\n",
      "ToucheQuery(query_id='44', title='Should election day be a national holiday?', description='Some elections are held on workdays, which causes problems for working people to attend them, especially if the waiting lines are long. A user wonders whether election days should be holidays to maximize voter participation.', narrative='Highly relevant arguments explain why making election day a holiday is a good idea, or why not. Relevant arguments mention the fact or its remedy as one of the problems that elections have.')\n",
      "ToucheQuery(query_id='45', title='Should the penny stay in circulation?', description=\"Inflation causes small coin currency to be almost worthless, so that people are half-joking that picking a penny up from the street is more expensive than not. A user wonders what's the point of keeping the penny in circulation.\", narrative='Highly relevant arguments make a compelling case for the penny to stay in circulation, or be removed. Relevant arguments discuss small coin money in general, or also include paper money compared to digital money.')\n",
      "ToucheQuery(query_id='46', title='Should net neutrality be restored?', description='Given preference for some kind of network traffic over other kinds has long been out of the question. Now that it is possible, a user wonders whether neutral shipment of data should be reintroduced.', narrative='Highly relevant arguments make the case for net neutrality, or why it should not be reintroduced. Relevant arguments merely state the importance of certain kinds of traffic as examples.')\n",
      "ToucheQuery(query_id='47', title='Is homework beneficial?', description='Many school children get assigned homework. A user wonders whether this common practice in the education system is actually beneficial for the learning outcome.', narrative='Highly relevant arguments give reasons for or against homework assignments. Relevant arguments mention homework as one of many measures, or appear not to be discussing the learning benefits or downsides, but benefits or downsides related to other things.')\n",
      "ToucheQuery(query_id='48', title='Should the voting age be lowered?', description='Excluding certain parts of society from voting appears undemocratic. Children are entirely excluded across the globe. A user wonders why this is case and whether the voting age should be lowered.', narrative=\"Highly relevant arguments take a stance for or against lowering the voting age, citing significant shortcomings or benefits. Relevant arguments discuss, e.g., children's rights and only mention voting as an example.\")\n",
      "ToucheQuery(query_id='49', title='Should body cameras be mandatory for police?', description='Many instances of police brutality have been documented throughout the world. A user wonders whether making body cams mandatory would be a suitable measure in an attempt to minimize such crimes.', narrative='Highly relevant arguments argue for or against body cams for police officers, giving valid reasons. Relevant arguments include ones that cite conspiracy theories, or that discuss video surveillance in general, mentioning body cams only in passing.')\n",
      "ToucheQuery(query_id='50', title='Should everyone get a universal basic income?', description='Redistribution of wealth is a fundamental concept of many economies and social systems. A key component might be a universal basic income, however, a user wonders whether this truly would help.', narrative='Highly relevant arguments take a clear stance toward the universal basic income, giving clear premises. Relevant arguments offer only emotional arguments, or talk about minimum wages, mentioning universal basic income only in passing.')\n"
     ]
    },
    {
     "name": "stderr",
     "output_type": "stream",
     "text": [
      "\r"
     ]
    }
   ],
   "source": [
    "for query in dataset.queries_iter():\n",
    "    print(query)"
   ]
  },
  {
   "cell_type": "code",
   "execution_count": 18,
   "id": "001971f1-c025-475b-974f-1e16495f27e2",
   "metadata": {},
   "outputs": [
    {
     "data": {
      "text/plain": [
       "['Icd93895acd1ab732',\n",
       " 'If497a0f1c2b730b5',\n",
       " 'I927bbf179d0ddca5',\n",
       " 'I208be82ba17b76f8',\n",
       " 'I0538673fe011264e',\n",
       " 'Iabd7bd3587a82378',\n",
       " 'I6ad85c75eebee51e',\n",
       " 'Ia5bb52f674ce3387',\n",
       " 'Ifc162a612d99ac68',\n",
       " 'I16ace897d8007db7',\n",
       " 'Ibdc627bd92b97de4',\n",
       " 'I0eb34de7258ae39a',\n",
       " 'Ic81632f55f762b99',\n",
       " 'Ia20c1e2e90f832cb',\n",
       " 'I6a52d140c9e3f1b8',\n",
       " 'Ia993cc74992623ab',\n",
       " 'Ia74d152270cedab0',\n",
       " 'Idc187d773f55378e',\n",
       " 'Id71eeffeca71adee',\n",
       " 'Ibaa25a9245a3cd96',\n",
       " 'I34c792db526e7bbc',\n",
       " 'Ide6d93c2173be1a7',\n",
       " 'I0da70e10bcf31fc8',\n",
       " 'Iaf40e181beba595a',\n",
       " 'Ia51bd34a65572b5f']"
      ]
     },
     "execution_count": 18,
     "metadata": {},
     "output_type": "execute_result"
    }
   ],
   "source": [
    "qid_to_query['34']"
   ]
  },
  {
   "cell_type": "code",
   "execution_count": 36,
   "id": "4f15b20a-dd74-40b3-91f9-e49379693704",
   "metadata": {},
   "outputs": [
    {
     "name": "stderr",
     "output_type": "stream",
     "text": [
      "100%|█████████████████████████████████████████████████████████████████████████████████████████████████████████████| 25/25 [00:24<00:00,  1.00it/s]\n",
      "100%|█████████████████████████████████████████████████████████████████████████████████████████████████████████████| 25/25 [00:25<00:00,  1.01s/it]\n"
     ]
    }
   ],
   "source": [
    "from tqdm import tqdm\n",
    "\n",
    "for v in [qid_to_query['34'], qid_to_query['48']]:\n",
    "    for doc_id in tqdm(v):\n",
    "        src, tgt =  paths(doc_id)\n",
    "        !mkdir -p {tgt}\n",
    "        !cp -R {src}* {tgt}"
   ]
  },
  {
   "cell_type": "code",
   "execution_count": 17,
   "id": "84ecf0e4-a6c1-4188-ae37-e6a9c924a425",
   "metadata": {},
   "outputs": [
    {
     "data": {
      "text/plain": [
       "25"
      ]
     },
     "execution_count": 17,
     "metadata": {},
     "output_type": "execute_result"
    }
   ],
   "source": [
    "len(qid_to_query['48'])"
   ]
  },
  {
   "cell_type": "code",
   "execution_count": 15,
   "id": "02405256-5067-4ff3-8263-6f43d5a54d52",
   "metadata": {},
   "outputs": [],
   "source": [
    "qid_to_query = {}\n",
    "for qrel in dataset.qrels_iter():\n",
    "    if qrel.query_id not in qid_to_query:\n",
    "        qid_to_query[qrel.query_id] = []\n",
    "    qid_to_query[qrel.query_id] += [qrel.doc_id]\n",
    "\n",
    "qid_to_query = {k:list(set(v))[:25] for k,v in qid_to_query.items()}"
   ]
  },
  {
   "cell_type": "code",
   "execution_count": 29,
   "id": "1b0401ac-430a-4c0b-a474-87841180e0c8",
   "metadata": {},
   "outputs": [
    {
     "data": {
      "text/plain": [
       "('sample-input/touche22-image-search-main/images/Icd/Icd93895acd1ab732/',\n",
       " 'sample-input/Icd/Icd93895acd1ab732/')"
      ]
     },
     "execution_count": 29,
     "metadata": {},
     "output_type": "execute_result"
    }
   ],
   "source": [
    "def paths(doc_id):\n",
    "    doc_id = '/' + doc_id[:3] + '/' + doc_id + '/'\n",
    "    \n",
    "    return ('sample-input/touche22-image-search-main/images' + doc_id,  'sample-input' + doc_id)\n",
    "\n",
    "paths('Icd93895acd1ab732')"
   ]
  },
  {
   "cell_type": "code",
   "execution_count": 24,
   "id": "af2b06f1-6e88-498a-88f0-675e548360ed",
   "metadata": {},
   "outputs": [
    {
     "name": "stdout",
     "output_type": "stream",
     "text": [
      "image-phash.txt  image-url.txt\timage.webp  pages\n"
     ]
    }
   ],
   "source": [
    "!ls sample-input/touche22-image-search-main/images/Icd/Icd93895acd1ab732"
   ]
  },
  {
   "cell_type": "code",
   "execution_count": 30,
   "id": "a0e2154f-ff37-4475-9802-d11f588751d1",
   "metadata": {},
   "outputs": [
    {
     "name": "stdout",
     "output_type": "stream",
     "text": [
      "image-phash.txt  image-url.txt\timage.webp  pages\n"
     ]
    }
   ],
   "source": [
    "!ls sample-input/touche22-image-search-main/images/Icd/Icd93895acd1ab732/"
   ]
  }
 ],
 "metadata": {
  "kernelspec": {
   "display_name": "Python 3 (ipykernel)",
   "language": "python",
   "name": "python3"
  },
  "language_info": {
   "codemirror_mode": {
    "name": "ipython",
    "version": 3
   },
   "file_extension": ".py",
   "mimetype": "text/x-python",
   "name": "python",
   "nbconvert_exporter": "python",
   "pygments_lexer": "ipython3",
   "version": "3.7.13"
  }
 },
 "nbformat": 4,
 "nbformat_minor": 5
}
