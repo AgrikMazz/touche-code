{
 "cells": [
  {
   "cell_type": "markdown",
   "id": "1996c3be-ed69-4674-8fe1-dc8df3e9543b",
   "metadata": {},
   "source": [
    "# This is my cool Pipeline"
   ]
  },
  {
   "cell_type": "markdown",
   "id": "b3fc6cff-ffc7-4f0c-a93f-e35bdc388987",
   "metadata": {},
   "source": [
    "### Step 1: Import everything and load variables"
   ]
  },
  {
   "cell_type": "code",
   "execution_count": 17,
   "id": "ba20977a-e280-49ed-9857-392a0067ccdc",
   "metadata": {},
   "outputs": [
    {
     "name": "stdout",
     "output_type": "stream",
     "text": [
      "I will use a small hardcoded example.\n",
      "I will write the run file to /tmp/\n"
     ]
    }
   ],
   "source": [
    "import pyterrier as pt\n",
    "import pandas as pd\n",
    "import os\n",
    "from pathlib import Path\n",
    "from glob import glob\n",
    "\n",
    "SYSTEM_NAME = 'my-retrieval-system'\n",
    "\n",
    "if not pt.started():\n",
    "    pt.init(version=os.environ['PYTERRIER_VERSION'], helper_version=os.environ['PYTERRIER_HELPER_VERSION'], no_download=True)\n",
    "\n",
    "input_data = os.environ.get('TIRA_INPUT_DIRECTORY', None)\n",
    "\n",
    "if input_data:\n",
    "    print(f'I will read the input data from {input_data}.')\n",
    "else:\n",
    "    input_data = '/workspace/sample-input/re-rank'\n",
    "    print('I will use a small hardcoded example.')\n",
    "\n",
    "output_file = os.environ.get('TIRA_OUTPUT_DIRECTORY', '/tmp/')\n",
    "\n",
    "print(f'I will write the run file to {output_file}')\n"
   ]
  },
  {
   "cell_type": "markdown",
   "id": "7d17fffc-a409-4b40-a1f0-0463d365c853",
   "metadata": {},
   "source": [
    "### Step 2: Load the data"
   ]
  },
  {
   "cell_type": "code",
   "execution_count": 26,
   "id": "9fd14e3c-4c96-4fc7-860c-88d4c69fa21c",
   "metadata": {},
   "outputs": [
    {
     "name": "stdout",
     "output_type": "stream",
     "text": [
      "Step 2: Read input data from /workspace/sample-input/re-rank.\n",
      "Done...\n"
     ]
    },
    {
     "data": {
      "text/html": [
       "<div>\n",
       "<style scoped>\n",
       "    .dataframe tbody tr th:only-of-type {\n",
       "        vertical-align: middle;\n",
       "    }\n",
       "\n",
       "    .dataframe tbody tr th {\n",
       "        vertical-align: top;\n",
       "    }\n",
       "\n",
       "    .dataframe thead th {\n",
       "        text-align: right;\n",
       "    }\n",
       "</style>\n",
       "<table border=\"1\" class=\"dataframe\">\n",
       "  <thead>\n",
       "    <tr style=\"text-align: right;\">\n",
       "      <th></th>\n",
       "      <th>qid</th>\n",
       "      <th>query</th>\n",
       "      <th>docno</th>\n",
       "      <th>text</th>\n",
       "    </tr>\n",
       "  </thead>\n",
       "  <tbody>\n",
       "    <tr>\n",
       "      <th>0</th>\n",
       "      <td>34</td>\n",
       "      <td>Are social networking sites good for our society</td>\n",
       "      <td>Iad17912610912ffd</td>\n",
       "      <td>Instagram\\nTwitter\\nFacebook\\n\\nThursday, Octo...</td>\n",
       "    </tr>\n",
       "    <tr>\n",
       "      <th>1</th>\n",
       "      <td>34</td>\n",
       "      <td>Are social networking sites good for our society</td>\n",
       "      <td>Ia20c1e2e90f832cb</td>\n",
       "      <td>Upload Log in\\n  Search\\n \\nVideo\\nSlideshow\\n...</td>\n",
       "    </tr>\n",
       "    <tr>\n",
       "      <th>2</th>\n",
       "      <td>34</td>\n",
       "      <td>Are social networking sites good for our society</td>\n",
       "      <td>I374eede3492beb08</td>\n",
       "      <td>Free Trial Login\\n\\tSearch\\nFeatures\\n\\t\\nPSHE...</td>\n",
       "    </tr>\n",
       "    <tr>\n",
       "      <th>3</th>\n",
       "      <td>34</td>\n",
       "      <td>Are social networking sites good for our society</td>\n",
       "      <td>I8b51d50df3ca6612</td>\n",
       "      <td>Cookies\\n\\nThis site uses cookies to offer you...</td>\n",
       "    </tr>\n",
       "    <tr>\n",
       "      <th>4</th>\n",
       "      <td>34</td>\n",
       "      <td>Are social networking sites good for our society</td>\n",
       "      <td>I0c02739ff554ca9c</td>\n",
       "      <td>Skip to main content\\nUtility menu\\nAbout this...</td>\n",
       "    </tr>\n",
       "    <tr>\n",
       "      <th>...</th>\n",
       "      <td>...</td>\n",
       "      <td>...</td>\n",
       "      <td>...</td>\n",
       "      <td>...</td>\n",
       "    </tr>\n",
       "    <tr>\n",
       "      <th>74</th>\n",
       "      <td>48</td>\n",
       "      <td>Should the voting age be lowered</td>\n",
       "      <td>I7dad15970750f8d4</td>\n",
       "      <td>We value your privacy\\n\\nWe and our partners s...</td>\n",
       "    </tr>\n",
       "    <tr>\n",
       "      <th>75</th>\n",
       "      <td>48</td>\n",
       "      <td>Should the voting age be lowered</td>\n",
       "      <td>I9cca04466f27d923</td>\n",
       "      <td>Jump to main content\\nJump to search\\nJump to ...</td>\n",
       "    </tr>\n",
       "    <tr>\n",
       "      <th>76</th>\n",
       "      <td>48</td>\n",
       "      <td>Should the voting age be lowered</td>\n",
       "      <td>I67bbb02abaf26583</td>\n",
       "      <td>Home\\nAbout\\nLatest\\nElections\\nEU Politics\\nF...</td>\n",
       "    </tr>\n",
       "    <tr>\n",
       "      <th>77</th>\n",
       "      <td>48</td>\n",
       "      <td>Should the voting age be lowered</td>\n",
       "      <td>Ia73d445074b4df3d</td>\n",
       "      <td>Skip to content\\nHOW I GOT TO 5 MILLION\\nFEATU...</td>\n",
       "    </tr>\n",
       "    <tr>\n",
       "      <th>78</th>\n",
       "      <td>48</td>\n",
       "      <td>Should the voting age be lowered</td>\n",
       "      <td>I270936e4b9d90dbb</td>\n",
       "      <td>Current Issue All Issues Podcasts About Subscr...</td>\n",
       "    </tr>\n",
       "  </tbody>\n",
       "</table>\n",
       "<p>79 rows × 4 columns</p>\n",
       "</div>"
      ],
      "text/plain": [
       "   qid                                              query              docno  \\\n",
       "0   34  Are social networking sites good for our society   Iad17912610912ffd   \n",
       "1   34  Are social networking sites good for our society   Ia20c1e2e90f832cb   \n",
       "2   34  Are social networking sites good for our society   I374eede3492beb08   \n",
       "3   34  Are social networking sites good for our society   I8b51d50df3ca6612   \n",
       "4   34  Are social networking sites good for our society   I0c02739ff554ca9c   \n",
       "..  ..                                                ...                ...   \n",
       "74  48                  Should the voting age be lowered   I7dad15970750f8d4   \n",
       "75  48                  Should the voting age be lowered   I9cca04466f27d923   \n",
       "76  48                  Should the voting age be lowered   I67bbb02abaf26583   \n",
       "77  48                  Should the voting age be lowered   Ia73d445074b4df3d   \n",
       "78  48                  Should the voting age be lowered   I270936e4b9d90dbb   \n",
       "\n",
       "                                                 text  \n",
       "0   Instagram\\nTwitter\\nFacebook\\n\\nThursday, Octo...  \n",
       "1   Upload Log in\\n  Search\\n \\nVideo\\nSlideshow\\n...  \n",
       "2   Free Trial Login\\n\\tSearch\\nFeatures\\n\\t\\nPSHE...  \n",
       "3   Cookies\\n\\nThis site uses cookies to offer you...  \n",
       "4   Skip to main content\\nUtility menu\\nAbout this...  \n",
       "..                                                ...  \n",
       "74  We value your privacy\\n\\nWe and our partners s...  \n",
       "75  Jump to main content\\nJump to search\\nJump to ...  \n",
       "76  Home\\nAbout\\nLatest\\nElections\\nEU Politics\\nF...  \n",
       "77  Skip to content\\nHOW I GOT TO 5 MILLION\\nFEATU...  \n",
       "78  Current Issue All Issues Podcasts About Subscr...  \n",
       "\n",
       "[79 rows x 4 columns]"
      ]
     },
     "execution_count": 26,
     "metadata": {},
     "output_type": "execute_result"
    }
   ],
   "source": [
    "print(f'Step 2: Read input data from {input_data}.')\n",
    "\n",
    "def load_image_text(image_id):\n",
    "    ret = ''\n",
    "    \n",
    "    for txt_file in glob(input_data +'/images/' + image_id[:3] + '/' + image_id + '/*/*/*/text.txt'):\n",
    "        ret += '\\n\\n' + open(txt_file).read()\n",
    "        \n",
    "    return {'docno': image_id, 'text': ret.strip()}\n",
    "\n",
    "df = pd.read_json(input_data + '/rerank.jsonl', lines=True)\n",
    "df['query'] = df['query'].apply(lambda i: \"\".join([x if x.isalnum() else \" \" for x in i]))\n",
    "df['qid'] = df['qid'].astype('str')\n",
    "df['text'] = df['docno'].apply(lambda i: load_image_text(i)['text'])\n",
    "print(f'Done...')\n",
    "\n",
    "df"
   ]
  },
  {
   "cell_type": "markdown",
   "id": "169b2218-38ec-4c3d-80a7-b144ecd4cc02",
   "metadata": {},
   "source": [
    "### Step 3: Define the actual retrieval appraoch"
   ]
  },
  {
   "cell_type": "code",
   "execution_count": 27,
   "id": "eb38488f-a6bb-4960-a1c2-680fead6465d",
   "metadata": {},
   "outputs": [
    {
     "name": "stdout",
     "output_type": "stream",
     "text": [
      "Step 3: Define the retrieval approach\n"
     ]
    }
   ],
   "source": [
    "print('Step 3: Define the retrieval approach')\n",
    "bm25_scorer = pt.text.scorer(body_attr=\"text\", wmodel='BM25', verbose=True)\n"
   ]
  },
  {
   "cell_type": "markdown",
   "id": "a7315abd-5fb1-478c-b8f6-5970dbfb7e5c",
   "metadata": {},
   "source": [
    "### Step 4: Run the pipeline"
   ]
  },
  {
   "cell_type": "code",
   "execution_count": 28,
   "id": "1a7b340c-0001-4480-9466-7e34c5f83dcc",
   "metadata": {},
   "outputs": [
    {
     "name": "stdout",
     "output_type": "stream",
     "text": [
      "Step 4: Run the retrieval pipeline\n"
     ]
    },
    {
     "name": "stderr",
     "output_type": "stream",
     "text": [
      "51documents [00:00, 93.30documents/s]                                                                                                             \n",
      "BR(BM25):   0%|                                                                                                              | 0/2 [00:00<?, ?q/s]"
     ]
    },
    {
     "name": "stdout",
     "output_type": "stream",
     "text": [
      "20:34:03.844 [main] WARN org.terrier.querying.ApplyTermPipeline - The index has no termpipelines configuration, and no control configuration is found. Defaulting to global termpipelines configuration of 'Stopwords,PorterStemmer'. Set a termpipelines control to remove this warning.\n"
     ]
    },
    {
     "name": "stderr",
     "output_type": "stream",
     "text": [
      "BR(BM25): 100%|█████████████████████████████████████████████████████████████████████████████████████████████████████| 2/2 [00:00<00:00, 151.81q/s]\n"
     ]
    },
    {
     "data": {
      "text/html": [
       "<div>\n",
       "<style scoped>\n",
       "    .dataframe tbody tr th:only-of-type {\n",
       "        vertical-align: middle;\n",
       "    }\n",
       "\n",
       "    .dataframe tbody tr th {\n",
       "        vertical-align: top;\n",
       "    }\n",
       "\n",
       "    .dataframe thead th {\n",
       "        text-align: right;\n",
       "    }\n",
       "</style>\n",
       "<table border=\"1\" class=\"dataframe\">\n",
       "  <thead>\n",
       "    <tr style=\"text-align: right;\">\n",
       "      <th></th>\n",
       "      <th>qid</th>\n",
       "      <th>docno</th>\n",
       "      <th>text</th>\n",
       "      <th>rank</th>\n",
       "      <th>score</th>\n",
       "      <th>query</th>\n",
       "    </tr>\n",
       "  </thead>\n",
       "  <tbody>\n",
       "    <tr>\n",
       "      <th>0</th>\n",
       "      <td>34</td>\n",
       "      <td>Iad17912610912ffd</td>\n",
       "      <td>Instagram\\nTwitter\\nFacebook\\n\\nThursday, Octo...</td>\n",
       "      <td>0</td>\n",
       "      <td>0.000000</td>\n",
       "      <td>Are social networking sites good for our society</td>\n",
       "    </tr>\n",
       "    <tr>\n",
       "      <th>1</th>\n",
       "      <td>34</td>\n",
       "      <td>Ia20c1e2e90f832cb</td>\n",
       "      <td>Upload Log in\\n  Search\\n \\nVideo\\nSlideshow\\n...</td>\n",
       "      <td>2</td>\n",
       "      <td>-0.168664</td>\n",
       "      <td>Are social networking sites good for our society</td>\n",
       "    </tr>\n",
       "    <tr>\n",
       "      <th>2</th>\n",
       "      <td>34</td>\n",
       "      <td>I374eede3492beb08</td>\n",
       "      <td>Free Trial Login\\n\\tSearch\\nFeatures\\n\\t\\nPSHE...</td>\n",
       "      <td>3</td>\n",
       "      <td>-0.851783</td>\n",
       "      <td>Are social networking sites good for our society</td>\n",
       "    </tr>\n",
       "    <tr>\n",
       "      <th>3</th>\n",
       "      <td>34</td>\n",
       "      <td>I8b51d50df3ca6612</td>\n",
       "      <td>Cookies\\n\\nThis site uses cookies to offer you...</td>\n",
       "      <td>4</td>\n",
       "      <td>-0.864547</td>\n",
       "      <td>Are social networking sites good for our society</td>\n",
       "    </tr>\n",
       "    <tr>\n",
       "      <th>4</th>\n",
       "      <td>34</td>\n",
       "      <td>I0c02739ff554ca9c</td>\n",
       "      <td>Skip to main content\\nUtility menu\\nAbout this...</td>\n",
       "      <td>5</td>\n",
       "      <td>-1.017909</td>\n",
       "      <td>Are social networking sites good for our society</td>\n",
       "    </tr>\n",
       "    <tr>\n",
       "      <th>...</th>\n",
       "      <td>...</td>\n",
       "      <td>...</td>\n",
       "      <td>...</td>\n",
       "      <td>...</td>\n",
       "      <td>...</td>\n",
       "      <td>...</td>\n",
       "    </tr>\n",
       "    <tr>\n",
       "      <th>74</th>\n",
       "      <td>48</td>\n",
       "      <td>I7dad15970750f8d4</td>\n",
       "      <td>We value your privacy\\n\\nWe and our partners s...</td>\n",
       "      <td>32</td>\n",
       "      <td>-2.218303</td>\n",
       "      <td>Should the voting age be lowered</td>\n",
       "    </tr>\n",
       "    <tr>\n",
       "      <th>75</th>\n",
       "      <td>48</td>\n",
       "      <td>I9cca04466f27d923</td>\n",
       "      <td>Jump to main content\\nJump to search\\nJump to ...</td>\n",
       "      <td>31</td>\n",
       "      <td>-2.217087</td>\n",
       "      <td>Should the voting age be lowered</td>\n",
       "    </tr>\n",
       "    <tr>\n",
       "      <th>76</th>\n",
       "      <td>48</td>\n",
       "      <td>I67bbb02abaf26583</td>\n",
       "      <td>Home\\nAbout\\nLatest\\nElections\\nEU Politics\\nF...</td>\n",
       "      <td>34</td>\n",
       "      <td>-2.240367</td>\n",
       "      <td>Should the voting age be lowered</td>\n",
       "    </tr>\n",
       "    <tr>\n",
       "      <th>77</th>\n",
       "      <td>48</td>\n",
       "      <td>Ia73d445074b4df3d</td>\n",
       "      <td>Skip to content\\nHOW I GOT TO 5 MILLION\\nFEATU...</td>\n",
       "      <td>33</td>\n",
       "      <td>-2.225849</td>\n",
       "      <td>Should the voting age be lowered</td>\n",
       "    </tr>\n",
       "    <tr>\n",
       "      <th>78</th>\n",
       "      <td>48</td>\n",
       "      <td>I270936e4b9d90dbb</td>\n",
       "      <td>Current Issue All Issues Podcasts About Subscr...</td>\n",
       "      <td>35</td>\n",
       "      <td>-2.242754</td>\n",
       "      <td>Should the voting age be lowered</td>\n",
       "    </tr>\n",
       "  </tbody>\n",
       "</table>\n",
       "<p>79 rows × 6 columns</p>\n",
       "</div>"
      ],
      "text/plain": [
       "   qid              docno                                               text  \\\n",
       "0   34  Iad17912610912ffd  Instagram\\nTwitter\\nFacebook\\n\\nThursday, Octo...   \n",
       "1   34  Ia20c1e2e90f832cb  Upload Log in\\n  Search\\n \\nVideo\\nSlideshow\\n...   \n",
       "2   34  I374eede3492beb08  Free Trial Login\\n\\tSearch\\nFeatures\\n\\t\\nPSHE...   \n",
       "3   34  I8b51d50df3ca6612  Cookies\\n\\nThis site uses cookies to offer you...   \n",
       "4   34  I0c02739ff554ca9c  Skip to main content\\nUtility menu\\nAbout this...   \n",
       "..  ..                ...                                                ...   \n",
       "74  48  I7dad15970750f8d4  We value your privacy\\n\\nWe and our partners s...   \n",
       "75  48  I9cca04466f27d923  Jump to main content\\nJump to search\\nJump to ...   \n",
       "76  48  I67bbb02abaf26583  Home\\nAbout\\nLatest\\nElections\\nEU Politics\\nF...   \n",
       "77  48  Ia73d445074b4df3d  Skip to content\\nHOW I GOT TO 5 MILLION\\nFEATU...   \n",
       "78  48  I270936e4b9d90dbb  Current Issue All Issues Podcasts About Subscr...   \n",
       "\n",
       "    rank     score                                              query  \n",
       "0      0  0.000000  Are social networking sites good for our society   \n",
       "1      2 -0.168664  Are social networking sites good for our society   \n",
       "2      3 -0.851783  Are social networking sites good for our society   \n",
       "3      4 -0.864547  Are social networking sites good for our society   \n",
       "4      5 -1.017909  Are social networking sites good for our society   \n",
       "..   ...       ...                                                ...  \n",
       "74    32 -2.218303                  Should the voting age be lowered   \n",
       "75    31 -2.217087                  Should the voting age be lowered   \n",
       "76    34 -2.240367                  Should the voting age be lowered   \n",
       "77    33 -2.225849                  Should the voting age be lowered   \n",
       "78    35 -2.242754                  Should the voting age be lowered   \n",
       "\n",
       "[79 rows x 6 columns]"
      ]
     },
     "execution_count": 28,
     "metadata": {},
     "output_type": "execute_result"
    }
   ],
   "source": [
    "print('Step 4: Run the retrieval pipeline')\n",
    "\n",
    "run = bm25_scorer(df)\n",
    "run"
   ]
  },
  {
   "cell_type": "markdown",
   "id": "4ec396ab-ac8b-4e71-840d-514d4b6b659a",
   "metadata": {},
   "source": [
    "### Step 5: Stence Detection"
   ]
  },
  {
   "cell_type": "code",
   "execution_count": 29,
   "id": "53e9dc7a-7136-404c-8816-16660412a5cc",
   "metadata": {},
   "outputs": [
    {
     "name": "stdout",
     "output_type": "stream",
     "text": [
      "Step 5: Define stence detection\n"
     ]
    }
   ],
   "source": [
    "print('Step 5: Define stence detection')\n",
    "\n",
    "def detect_stance(query_document_pair):\n",
    "    # As baseline, we return always pro\n",
    "    return 'PRO'"
   ]
  },
  {
   "cell_type": "markdown",
   "id": "0fbff470-0907-4864-8795-6ea4ec8f9586",
   "metadata": {},
   "source": [
    "### Step 6: Persist results"
   ]
  },
  {
   "cell_type": "code",
   "execution_count": 30,
   "id": "f23fac24-097c-4036-8e76-265e6be004bc",
   "metadata": {},
   "outputs": [
    {
     "name": "stdout",
     "output_type": "stream",
     "text": [
      "Step 6: Persist Run.\n",
      "Done...\n"
     ]
    }
   ],
   "source": [
    "print('Step 6: Persist Run.')\n",
    "\n",
    "def normalize_run(run):\n",
    "    try:\n",
    "        run['qid'] = run['qid'].astype(int)\n",
    "    except:\n",
    "        pass\n",
    "    run['system'] = SYSTEM_NAME\n",
    "    run = run.copy().sort_values([\"qid\", \"score\", \"docno\"], ascending=[True, False, False]).reset_index()\n",
    "    run = run.groupby(\"qid\")[[\"qid\", \"docno\", \"rank\", \"score\", \"system\"]].head(1000)\n",
    "\n",
    "    # Make sure that rank position starts by 1\n",
    "    run[\"rank\"] = 1\n",
    "    run[\"rank\"] = run.groupby(\"qid\")[\"rank\"].cumsum()\n",
    "    run[\"Q0\"] = run.apply(lambda i: detect_stance(i), axis=1)\n",
    "    run[\"system\"] = SYSTEM_NAME\n",
    "    \n",
    "    return run[['qid', 'Q0', 'docno', 'rank', 'score', 'system']]\n",
    "\n",
    "Path(output_file).mkdir(parents=True, exist_ok=True)\n",
    "normalize_run(run).to_csv(output_file + '/run.txt', sep=' ', header=False, index=False)\n",
    "\n",
    "print('Done...')"
   ]
  }
 ],
 "metadata": {
  "kernelspec": {
   "display_name": "Python 3 (ipykernel)",
   "language": "python",
   "name": "python3"
  },
  "language_info": {
   "codemirror_mode": {
    "name": "ipython",
    "version": 3
   },
   "file_extension": ".py",
   "mimetype": "text/x-python",
   "name": "python",
   "nbconvert_exporter": "python",
   "pygments_lexer": "ipython3",
   "version": "3.7.13"
  }
 },
 "nbformat": 4,
 "nbformat_minor": 5
}
