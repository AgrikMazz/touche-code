{
 "cells": [
  {
   "cell_type": "markdown",
   "id": "8c3da078-f7fc-4d37-904c-532bb26d4321",
   "metadata": {},
   "source": [
    "# PyTerrier Starter: Full-Rank with ChatNoir for Task 3 in Touche 2023\n",
    "\n",
    "This is the [PyTerrier](https://github.com/terrier-org/pyterrier) baseline for [task 3 on Image Retrieval for Arguments](https://touche.webis.de/clef23/touche23-web/image-retrieval-for-arguments.html) in [Touché 2023](https://touche.webis.de/clef23/touche23-web/).\n",
    "\n",
    "This notebook implements \"full-rank\" retrieval with BM25 in PyTerrier that indexes all images before retrieval .\n",
    "\n",
    "### Adapt the notebook locally\n",
    "\n",
    "You can adapt/run this baseline locally with docker and can directly deploy and run it in [TIRA.io](https://www.tira.io/task/touche-task-3).\n",
    "\n",
    "With docker installed, you can start this notebook with the command:\n",
    "\n",
    "```\n",
    "docker run --rm -ti \\\n",
    "    -p 8888:8888 \\\n",
    "    -v ${PWD}:/workspace \\\n",
    "    webis/tira-touche23-task-3-pyterrier-baseline:0.0.1 \\\n",
    "    jupyter-lab --allow-root --ip 0.0.0.0\n",
    "```\n",
    "\n",
    "### Deployment in TIRA\n",
    "\n",
    "To deploy approaches in TIRA, you upload the image and specify the command that is to be executed in the image. TIRA gives you a personalized documentation on how to upload the image, and to run this notebook in TIRA you can specify the following command in TIRA:\n",
    "\n",
    "```\n",
    "/workspace/run-notebook.py --notebook /workspace/full-rank-pipeline.ipynb --input $inputDataset --output $outputDir\n",
    "```\n",
    "\n",
    "You can dry-run this on your machine by executing the command:\n",
    "\n",
    "```\n",
    "./run-notebook.py \\\n",
    "    --input ${PWD}/sample-input/full-rank \\\n",
    "    --output ${PWD}/sample-output \\\n",
    "    --notebook /workspace/full-rank-pipeline.ipynb \\\n",
    "    --local-dry-run True\n",
    "```\n",
    "\n",
    "\n",
    "\n",
    "### Additional Resources\n",
    "\n",
    "- The [PyTerrier tutorial](https://github.com/terrier-org/ecir2021tutorial)\n",
    "- The [PyTerrier documentation](https://pyterrier.readthedocs.io/en/latest/)\n",
    "- The [TIRA quickstart](https://touche.webis.de/clef23/touche23-web/evidence-retrieval-for-causal-questions.html#tira-quickstart)\n",
    "\n"
   ]
  },
  {
   "cell_type": "markdown",
   "id": "66fd2911-c97a-4f91-af28-8c7e381573b6",
   "metadata": {},
   "source": [
    "### Step 1: Import everything and load variables"
   ]
  },
  {
   "cell_type": "code",
   "execution_count": 1,
   "id": "7ae3c54f-aba1-45bf-b074-e78a99f6405f",
   "metadata": {},
   "outputs": [
    {
     "name": "stdout",
     "output_type": "stream",
     "text": [
      "Start PyTerrier with version=5.7, helper_version=0.0.7, no_download=True\n"
     ]
    },
    {
     "name": "stderr",
     "output_type": "stream",
     "text": [
      "PyTerrier 0.9.1 has loaded Terrier 5.7 (built by craigm on 2022-11-10 18:30) and terrier-helper 0.0.7\n",
      "\n",
      "No etc/terrier.properties, using terrier.default.properties for bootstrap configuration.\n"
     ]
    },
    {
     "name": "stdout",
     "output_type": "stream",
     "text": [
      "I will use a small hardcoded example located in /workspace/sample-input/full-rank.\n",
      "The output directory is /tmp/\n"
     ]
    }
   ],
   "source": [
    "from tira_utils import get_input_directory_and_output_directory, normalize_run\n",
    "import pyterrier as pt\n",
    "import pandas as pd\n",
    "import os\n",
    "import json\n",
    "from tqdm import tqdm\n",
    "from glob import glob\n",
    "from pathlib import Path\n",
    "\n",
    "SYSTEM_NAME = os.environ.get('TIRA_SYSTEM_NAME' ,'my-retrieval-system')\n",
    "\n",
    "if not pt.started():\n",
    "    # tira_utils above should already have done started pyterrier with this configuration to ensure that no internet connection is required (for reproducibility)\n",
    "    pt.init(version=os.environ['PYTERRIER_VERSION'], helper_version=os.environ['PYTERRIER_HELPER_VERSION'], no_download=True)\n",
    "\n",
    "input_directory, output_directory = get_input_directory_and_output_directory(default_input='/workspace/sample-input/full-rank')\n"
   ]
  },
  {
   "cell_type": "markdown",
   "id": "8c563b0e-97ac-44a2-ba2f-18858f1506bb",
   "metadata": {},
   "source": [
    "### Step 2: Load the Queries"
   ]
  },
  {
   "cell_type": "code",
   "execution_count": 2,
   "id": "e35230af-66ec-4607-a97b-127bd890fa59",
   "metadata": {},
   "outputs": [
    {
     "name": "stdout",
     "output_type": "stream",
     "text": [
      "Step 2: Load the queries.\n"
     ]
    },
    {
     "data": {
      "text/html": [
       "<div>\n",
       "<style scoped>\n",
       "    .dataframe tbody tr th:only-of-type {\n",
       "        vertical-align: middle;\n",
       "    }\n",
       "\n",
       "    .dataframe tbody tr th {\n",
       "        vertical-align: top;\n",
       "    }\n",
       "\n",
       "    .dataframe thead th {\n",
       "        text-align: right;\n",
       "    }\n",
       "</style>\n",
       "<table border=\"1\" class=\"dataframe\">\n",
       "  <thead>\n",
       "    <tr style=\"text-align: right;\">\n",
       "      <th></th>\n",
       "      <th>qid</th>\n",
       "      <th>query</th>\n",
       "    </tr>\n",
       "  </thead>\n",
       "  <tbody>\n",
       "    <tr>\n",
       "      <th>0</th>\n",
       "      <td>34</td>\n",
       "      <td>Are social networking sites good for our society</td>\n",
       "    </tr>\n",
       "    <tr>\n",
       "      <th>1</th>\n",
       "      <td>48</td>\n",
       "      <td>Should the voting age be lowered</td>\n",
       "    </tr>\n",
       "  </tbody>\n",
       "</table>\n",
       "</div>"
      ],
      "text/plain": [
       "   qid                                              query\n",
       "0   34  Are social networking sites good for our society \n",
       "1   48                  Should the voting age be lowered "
      ]
     },
     "execution_count": 2,
     "metadata": {},
     "output_type": "execute_result"
    }
   ],
   "source": [
    "print('Step 2: Load the queries.')\n",
    "\n",
    "def load_queries():\n",
    "    file_name = input_directory + '/queries.jsonl'\n",
    "    \n",
    "    if not os.path.exists(file_name):\n",
    "        raise ValueError(f'Could not find the file \"{file_name}\". Got: {glob(input_data + \"/*\")}')\n",
    "    \n",
    "    ret = pd.read_json(file_name, lines=True)\n",
    "\n",
    "    # https://github.com/terrier-org/pyterrier/issues/62\\n\",\n",
    "    ret['query'] = ret['query'].apply(lambda i: \"\".join([x if x.isalnum() else \" \" for x in i]))\n",
    "    \n",
    "    return ret\n",
    "\n",
    "queries = load_queries()  \n",
    "queries.head(2)"
   ]
  },
  {
   "cell_type": "markdown",
   "id": "4e784830-5a93-4cc9-931f-f0b1864e5938",
   "metadata": {},
   "source": [
    "### Step 3: Index the images"
   ]
  },
  {
   "cell_type": "code",
   "execution_count": 3,
   "id": "7087ab16-96b1-4001-b632-f29b6841b670",
   "metadata": {},
   "outputs": [
    {
     "name": "stdout",
     "output_type": "stream",
     "text": [
      "Step 3: Create the Index.\n"
     ]
    },
    {
     "name": "stderr",
     "output_type": "stream",
     "text": [
      "50it [00:01, 38.39it/s]\n"
     ]
    }
   ],
   "source": [
    "print('Step 3: Create the Index.')\n",
    "\n",
    "# We use some very baseline method to get a textual representation: we just use the text of the pages that contain the image.\n",
    "def load_image_text(image_id):\n",
    "    ret = ''\n",
    "    \n",
    "    for txt_file in glob(input_directory +'/images/' + image_id[:3] + '/' + image_id + '/*/*/*/text.txt'):\n",
    "        ret += '\\n\\n' + open(txt_file).read()\n",
    "        \n",
    "    return ret.strip()\n",
    "\n",
    "def all_images():\n",
    "    for i in glob(input_directory + '/images/*/*'):\n",
    "        image_id = i.split('/')[-1]\n",
    "        yield {'docno': image_id, 'text': load_image_text(image_id)}\n",
    "\n",
    "\n",
    "!rm -Rf ./index\n",
    "iter_indexer = pt.IterDictIndexer(\"./index\", meta={'docno': 20, 'text': 4096})\n",
    "index_ref = iter_indexer.index(tqdm(all_images()))\n"
   ]
  },
  {
   "cell_type": "markdown",
   "id": "72655916-07fe-4c58-82c1-2f9f93381e7f",
   "metadata": {},
   "source": [
    "### Step 5: Define the Pipeline"
   ]
  },
  {
   "cell_type": "code",
   "execution_count": 4,
   "id": "05ce062d-25e4-4c61-b6ce-9431b9f2bbd4",
   "metadata": {},
   "outputs": [
    {
     "name": "stdout",
     "output_type": "stream",
     "text": [
      "Step 5: Define the Pipeline.\n"
     ]
    }
   ],
   "source": [
    "print('Step 5: Define the Pipeline.')\n",
    "\n",
    "retrieval_pipeline = pt.BatchRetrieve(index_ref, wmodel=\"BM25\", verbose=True)"
   ]
  },
  {
   "cell_type": "markdown",
   "id": "806c4638-ccee-4470-a74c-2a85d9ee2cfc",
   "metadata": {},
   "source": [
    "### Step 6: Create Run"
   ]
  },
  {
   "cell_type": "code",
   "execution_count": 5,
   "id": "a191f396-e896-4792-afaf-574e452640f5",
   "metadata": {},
   "outputs": [
    {
     "name": "stdout",
     "output_type": "stream",
     "text": [
      "Step 6: Create Run.\n"
     ]
    },
    {
     "name": "stderr",
     "output_type": "stream",
     "text": [
      "BR(BM25): 100%|██████████████████████████████████████████████████████████████████████████████████████████████████████| 2/2 [00:00<00:00,  4.80q/s]\n"
     ]
    }
   ],
   "source": [
    "print('Step 6: Create Run.')\n",
    "run = retrieval_pipeline(queries)"
   ]
  },
  {
   "cell_type": "code",
   "execution_count": 6,
   "id": "c0e07fca-de98-4de2-b6a7-abfd516c652c",
   "metadata": {},
   "outputs": [
    {
     "data": {
      "text/html": [
       "<div>\n",
       "<style scoped>\n",
       "    .dataframe tbody tr th:only-of-type {\n",
       "        vertical-align: middle;\n",
       "    }\n",
       "\n",
       "    .dataframe tbody tr th {\n",
       "        vertical-align: top;\n",
       "    }\n",
       "\n",
       "    .dataframe thead th {\n",
       "        text-align: right;\n",
       "    }\n",
       "</style>\n",
       "<table border=\"1\" class=\"dataframe\">\n",
       "  <thead>\n",
       "    <tr style=\"text-align: right;\">\n",
       "      <th></th>\n",
       "      <th>qid</th>\n",
       "      <th>docid</th>\n",
       "      <th>docno</th>\n",
       "      <th>rank</th>\n",
       "      <th>score</th>\n",
       "      <th>query</th>\n",
       "    </tr>\n",
       "  </thead>\n",
       "  <tbody>\n",
       "    <tr>\n",
       "      <th>0</th>\n",
       "      <td>34</td>\n",
       "      <td>39</td>\n",
       "      <td>Iad17912610912ffd</td>\n",
       "      <td>0</td>\n",
       "      <td>-0.152528</td>\n",
       "      <td>Are social networking sites good for our society</td>\n",
       "    </tr>\n",
       "    <tr>\n",
       "      <th>1</th>\n",
       "      <td>34</td>\n",
       "      <td>33</td>\n",
       "      <td>Ia20c1e2e90f832cb</td>\n",
       "      <td>1</td>\n",
       "      <td>-0.307966</td>\n",
       "      <td>Are social networking sites good for our society</td>\n",
       "    </tr>\n",
       "    <tr>\n",
       "      <th>2</th>\n",
       "      <td>34</td>\n",
       "      <td>49</td>\n",
       "      <td>I374eede3492beb08</td>\n",
       "      <td>2</td>\n",
       "      <td>-1.046229</td>\n",
       "      <td>Are social networking sites good for our society</td>\n",
       "    </tr>\n",
       "  </tbody>\n",
       "</table>\n",
       "</div>"
      ],
      "text/plain": [
       "  qid  docid              docno  rank     score  \\\n",
       "0  34     39  Iad17912610912ffd     0 -0.152528   \n",
       "1  34     33  Ia20c1e2e90f832cb     1 -0.307966   \n",
       "2  34     49  I374eede3492beb08     2 -1.046229   \n",
       "\n",
       "                                               query  \n",
       "0  Are social networking sites good for our society   \n",
       "1  Are social networking sites good for our society   \n",
       "2  Are social networking sites good for our society   "
      ]
     },
     "execution_count": 6,
     "metadata": {},
     "output_type": "execute_result"
    }
   ],
   "source": [
    "run.head(3)"
   ]
  },
  {
   "cell_type": "markdown",
   "id": "eb2a0f96-ec7b-433d-9578-5caeddf044e1",
   "metadata": {},
   "source": [
    "### Step 7: Stence Detection"
   ]
  },
  {
   "cell_type": "code",
   "execution_count": 7,
   "id": "8c5a31ba-5008-4665-9e22-86dd63e07eb1",
   "metadata": {},
   "outputs": [
    {
     "name": "stdout",
     "output_type": "stream",
     "text": [
      "Step 7: Define stence detection\n"
     ]
    }
   ],
   "source": [
    "print('Step 7: Define stence detection')\n",
    "\n",
    "def detect_stance(query_document_pair):\n",
    "    # As baseline, we return always pro\n",
    "    return 'PRO'\n",
    "\n",
    "run['Q0'] = run.apply(lambda i: detect_stance(i), axis=1)"
   ]
  },
  {
   "cell_type": "markdown",
   "id": "28c40a2e-0f96-4ae8-aa5e-55a5e7ef9dee",
   "metadata": {},
   "source": [
    "### Step 6: Persist Run"
   ]
  },
  {
   "cell_type": "code",
   "execution_count": 8,
   "id": "12e5bb42-ed1f-41ba-b7a5-cb43ebca96f6",
   "metadata": {},
   "outputs": [
    {
     "name": "stdout",
     "output_type": "stream",
     "text": [
      "Step 6: Persist Run.\n",
      "Done...\n"
     ]
    }
   ],
   "source": [
    "print('Step 6: Persist Run.')\n",
    "\n",
    "Path(output_directory).mkdir(parents=True, exist_ok=True)\n",
    "normalize_run(run, SYSTEM_NAME).to_csv(output_directory + '/run.txt', sep=' ', header=False, index=False)\n",
    "\n",
    "print('Done...')"
   ]
  }
 ],
 "metadata": {
  "kernelspec": {
   "display_name": "Python 3 (ipykernel)",
   "language": "python",
   "name": "python3"
  },
  "language_info": {
   "codemirror_mode": {
    "name": "ipython",
    "version": 3
   },
   "file_extension": ".py",
   "mimetype": "text/x-python",
   "name": "python",
   "nbconvert_exporter": "python",
   "pygments_lexer": "ipython3",
   "version": "3.7.13"
  }
 },
 "nbformat": 4,
 "nbformat_minor": 5
}
