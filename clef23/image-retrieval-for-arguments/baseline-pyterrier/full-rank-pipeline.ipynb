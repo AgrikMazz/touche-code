{
 "cells": [
  {
   "cell_type": "markdown",
   "id": "8c3da078-f7fc-4d37-904c-532bb26d4321",
   "metadata": {},
   "source": [
    "# This is my cool Pipeline"
   ]
  },
  {
   "cell_type": "markdown",
   "id": "66fd2911-c97a-4f91-af28-8c7e381573b6",
   "metadata": {},
   "source": [
    "### Step 1: Import everything and load variables"
   ]
  },
  {
   "cell_type": "code",
   "execution_count": 1,
   "id": "7ae3c54f-aba1-45bf-b074-e78a99f6405f",
   "metadata": {},
   "outputs": [
    {
     "name": "stderr",
     "output_type": "stream",
     "text": [
      "PyTerrier 0.9.1 has loaded Terrier 5.7 (built by craigm on 2022-11-10 18:30) and terrier-helper 0.0.7\n",
      "\n",
      "No etc/terrier.properties, using terrier.default.properties for bootstrap configuration.\n"
     ]
    },
    {
     "name": "stdout",
     "output_type": "stream",
     "text": [
      "I will use a small hardcoded example.\n",
      "I will write the run file to /tmp/\n"
     ]
    }
   ],
   "source": [
    "import pyterrier as pt\n",
    "import pandas as pd\n",
    "import os\n",
    "import json\n",
    "from tqdm import tqdm\n",
    "from glob import glob\n",
    "from pathlib import Path\n",
    "\n",
    "DEPTH = 1000\n",
    "SYSTEM_NAME = os.environ.get('TIRA_SYSTEM_NAME' ,'my-retrieval-system')\n",
    "\n",
    "if not pt.started():\n",
    "    pt.init(version=os.environ['PYTERRIER_VERSION'], helper_version=os.environ['PYTERRIER_HELPER_VERSION'], no_download=True)\n",
    "\n",
    "input_data = os.environ.get('TIRA_INPUT_DIRECTORY', None)\n",
    "\n",
    "if input_data:\n",
    "    print(f'I will read the input data from {input_data}.')\n",
    "else:\n",
    "    input_data = '/workspace/sample-input/full-rank'\n",
    "    print('I will use a small hardcoded example.')\n",
    "\n",
    "output_file = os.environ.get('TIRA_OUTPUT_DIRECTORY', '/tmp/')\n",
    "\n",
    "print(f'I will write the run file to {output_file}')\n"
   ]
  },
  {
   "cell_type": "markdown",
   "id": "8c563b0e-97ac-44a2-ba2f-18858f1506bb",
   "metadata": {},
   "source": [
    "### Step 2: Load the Queries"
   ]
  },
  {
   "cell_type": "code",
   "execution_count": 3,
   "id": "e35230af-66ec-4607-a97b-127bd890fa59",
   "metadata": {},
   "outputs": [
    {
     "name": "stdout",
     "output_type": "stream",
     "text": [
      "Step 2: Load the queries.\n"
     ]
    },
    {
     "data": {
      "text/html": [
       "<div>\n",
       "<style scoped>\n",
       "    .dataframe tbody tr th:only-of-type {\n",
       "        vertical-align: middle;\n",
       "    }\n",
       "\n",
       "    .dataframe tbody tr th {\n",
       "        vertical-align: top;\n",
       "    }\n",
       "\n",
       "    .dataframe thead th {\n",
       "        text-align: right;\n",
       "    }\n",
       "</style>\n",
       "<table border=\"1\" class=\"dataframe\">\n",
       "  <thead>\n",
       "    <tr style=\"text-align: right;\">\n",
       "      <th></th>\n",
       "      <th>qid</th>\n",
       "      <th>query</th>\n",
       "    </tr>\n",
       "  </thead>\n",
       "  <tbody>\n",
       "    <tr>\n",
       "      <th>0</th>\n",
       "      <td>34</td>\n",
       "      <td>Are social networking sites good for our society</td>\n",
       "    </tr>\n",
       "    <tr>\n",
       "      <th>1</th>\n",
       "      <td>48</td>\n",
       "      <td>Should the voting age be lowered</td>\n",
       "    </tr>\n",
       "  </tbody>\n",
       "</table>\n",
       "</div>"
      ],
      "text/plain": [
       "   qid                                              query\n",
       "0   34  Are social networking sites good for our society \n",
       "1   48                  Should the voting age be lowered "
      ]
     },
     "execution_count": 3,
     "metadata": {},
     "output_type": "execute_result"
    }
   ],
   "source": [
    "print('Step 2: Load the queries.')\n",
    "\n",
    "def load_queries():\n",
    "    file_name = input_data + '/queries.jsonl'\n",
    "    \n",
    "    if not os.path.exists(file_name):\n",
    "        raise ValueError(f'Could not find the file \"{file_name}\". Got: {glob(input_data + \"/*\")}')\n",
    "    \n",
    "    ret = pd.read_json(file_name, lines=True)\n",
    "\n",
    "    # https://github.com/terrier-org/pyterrier/issues/62\\n\",\n",
    "    ret['query'] = ret['query'].apply(lambda i: \"\".join([x if x.isalnum() else \" \" for x in i]))\n",
    "    \n",
    "    return ret\n",
    "\n",
    "queries =  load_queries()  \n",
    "queries"
   ]
  },
  {
   "cell_type": "markdown",
   "id": "4e784830-5a93-4cc9-931f-f0b1864e5938",
   "metadata": {},
   "source": [
    "### Step 3: Index the images"
   ]
  },
  {
   "cell_type": "code",
   "execution_count": 4,
   "id": "7087ab16-96b1-4001-b632-f29b6841b670",
   "metadata": {},
   "outputs": [
    {
     "name": "stdout",
     "output_type": "stream",
     "text": [
      "Step 3: Create the Index.\n"
     ]
    },
    {
     "name": "stderr",
     "output_type": "stream",
     "text": [
      "50it [00:00, 54.68it/s]\n"
     ]
    }
   ],
   "source": [
    "print('Step 3: Create the Index.')\n",
    "\n",
    "def all_images():\n",
    "    for i in glob(input_data + '/images/*/*'):\n",
    "        image_id = i.split('/')[-1]\n",
    "        text = ''\n",
    "        for txt_file in glob(i +'/*/*/*/text.txt'):\n",
    "            text += '\\n\\n' + open(txt_file).read()\n",
    "        \n",
    "        yield {'docno': image_id, 'text': text.strip()}\n",
    "\n",
    "\n",
    "!rm -Rf ./index\n",
    "iter_indexer = pt.IterDictIndexer(\"./index\", meta={'docno': 20, 'text': 4096})\n",
    "index_ref = iter_indexer.index(tqdm(all_images()))\n"
   ]
  },
  {
   "cell_type": "markdown",
   "id": "72655916-07fe-4c58-82c1-2f9f93381e7f",
   "metadata": {},
   "source": [
    "### Step 5: Define the Pipeline"
   ]
  },
  {
   "cell_type": "code",
   "execution_count": 6,
   "id": "05ce062d-25e4-4c61-b6ce-9431b9f2bbd4",
   "metadata": {},
   "outputs": [
    {
     "name": "stdout",
     "output_type": "stream",
     "text": [
      "Step 5: Define the Pipeline.\n"
     ]
    }
   ],
   "source": [
    "print('Step 5: Define the Pipeline.')\n",
    "\n",
    "retrieval_pipeline = pt.BatchRetrieve(index_ref, wmodel=\"BM25\", verbose=True)"
   ]
  },
  {
   "cell_type": "markdown",
   "id": "806c4638-ccee-4470-a74c-2a85d9ee2cfc",
   "metadata": {},
   "source": [
    "### Step 6: Create Run"
   ]
  },
  {
   "cell_type": "code",
   "execution_count": 10,
   "id": "a191f396-e896-4792-afaf-574e452640f5",
   "metadata": {},
   "outputs": [
    {
     "name": "stdout",
     "output_type": "stream",
     "text": [
      "Step 6: Create Run.\n"
     ]
    },
    {
     "name": "stderr",
     "output_type": "stream",
     "text": [
      "BR(BM25): 100%|██████████████████████████████████████████████████████████████████████████████████████████████████████| 2/2 [00:00<00:00,  9.79q/s]\n"
     ]
    }
   ],
   "source": [
    "print('Step 6: Create Run.')\n",
    "run = retrieval_pipeline(queries)"
   ]
  },
  {
   "cell_type": "code",
   "execution_count": 11,
   "id": "c0e07fca-de98-4de2-b6a7-abfd516c652c",
   "metadata": {},
   "outputs": [
    {
     "data": {
      "text/html": [
       "<div>\n",
       "<style scoped>\n",
       "    .dataframe tbody tr th:only-of-type {\n",
       "        vertical-align: middle;\n",
       "    }\n",
       "\n",
       "    .dataframe tbody tr th {\n",
       "        vertical-align: top;\n",
       "    }\n",
       "\n",
       "    .dataframe thead th {\n",
       "        text-align: right;\n",
       "    }\n",
       "</style>\n",
       "<table border=\"1\" class=\"dataframe\">\n",
       "  <thead>\n",
       "    <tr style=\"text-align: right;\">\n",
       "      <th></th>\n",
       "      <th>qid</th>\n",
       "      <th>docid</th>\n",
       "      <th>docno</th>\n",
       "      <th>rank</th>\n",
       "      <th>score</th>\n",
       "      <th>query</th>\n",
       "    </tr>\n",
       "  </thead>\n",
       "  <tbody>\n",
       "    <tr>\n",
       "      <th>0</th>\n",
       "      <td>34</td>\n",
       "      <td>39</td>\n",
       "      <td>Iad17912610912ffd</td>\n",
       "      <td>0</td>\n",
       "      <td>-0.152528</td>\n",
       "      <td>Are social networking sites good for our society</td>\n",
       "    </tr>\n",
       "    <tr>\n",
       "      <th>1</th>\n",
       "      <td>34</td>\n",
       "      <td>33</td>\n",
       "      <td>Ia20c1e2e90f832cb</td>\n",
       "      <td>1</td>\n",
       "      <td>-0.307966</td>\n",
       "      <td>Are social networking sites good for our society</td>\n",
       "    </tr>\n",
       "    <tr>\n",
       "      <th>2</th>\n",
       "      <td>34</td>\n",
       "      <td>49</td>\n",
       "      <td>I374eede3492beb08</td>\n",
       "      <td>2</td>\n",
       "      <td>-1.046229</td>\n",
       "      <td>Are social networking sites good for our society</td>\n",
       "    </tr>\n",
       "    <tr>\n",
       "      <th>3</th>\n",
       "      <td>34</td>\n",
       "      <td>24</td>\n",
       "      <td>I8b51d50df3ca6612</td>\n",
       "      <td>3</td>\n",
       "      <td>-1.059896</td>\n",
       "      <td>Are social networking sites good for our society</td>\n",
       "    </tr>\n",
       "    <tr>\n",
       "      <th>4</th>\n",
       "      <td>34</td>\n",
       "      <td>9</td>\n",
       "      <td>I0c02739ff554ca9c</td>\n",
       "      <td>4</td>\n",
       "      <td>-1.241300</td>\n",
       "      <td>Are social networking sites good for our society</td>\n",
       "    </tr>\n",
       "    <tr>\n",
       "      <th>...</th>\n",
       "      <td>...</td>\n",
       "      <td>...</td>\n",
       "      <td>...</td>\n",
       "      <td>...</td>\n",
       "      <td>...</td>\n",
       "      <td>...</td>\n",
       "    </tr>\n",
       "    <tr>\n",
       "      <th>74</th>\n",
       "      <td>48</td>\n",
       "      <td>8</td>\n",
       "      <td>I7dad15970750f8d4</td>\n",
       "      <td>31</td>\n",
       "      <td>-2.949061</td>\n",
       "      <td>Should the voting age be lowered</td>\n",
       "    </tr>\n",
       "    <tr>\n",
       "      <th>75</th>\n",
       "      <td>48</td>\n",
       "      <td>19</td>\n",
       "      <td>I9cca04466f27d923</td>\n",
       "      <td>32</td>\n",
       "      <td>-2.952404</td>\n",
       "      <td>Should the voting age be lowered</td>\n",
       "    </tr>\n",
       "    <tr>\n",
       "      <th>76</th>\n",
       "      <td>48</td>\n",
       "      <td>16</td>\n",
       "      <td>I67bbb02abaf26583</td>\n",
       "      <td>33</td>\n",
       "      <td>-2.956738</td>\n",
       "      <td>Should the voting age be lowered</td>\n",
       "    </tr>\n",
       "    <tr>\n",
       "      <th>77</th>\n",
       "      <td>48</td>\n",
       "      <td>10</td>\n",
       "      <td>Ia73d445074b4df3d</td>\n",
       "      <td>34</td>\n",
       "      <td>-2.961695</td>\n",
       "      <td>Should the voting age be lowered</td>\n",
       "    </tr>\n",
       "    <tr>\n",
       "      <th>78</th>\n",
       "      <td>48</td>\n",
       "      <td>4</td>\n",
       "      <td>I270936e4b9d90dbb</td>\n",
       "      <td>35</td>\n",
       "      <td>-2.964838</td>\n",
       "      <td>Should the voting age be lowered</td>\n",
       "    </tr>\n",
       "  </tbody>\n",
       "</table>\n",
       "<p>79 rows × 6 columns</p>\n",
       "</div>"
      ],
      "text/plain": [
       "   qid  docid              docno  rank     score  \\\n",
       "0   34     39  Iad17912610912ffd     0 -0.152528   \n",
       "1   34     33  Ia20c1e2e90f832cb     1 -0.307966   \n",
       "2   34     49  I374eede3492beb08     2 -1.046229   \n",
       "3   34     24  I8b51d50df3ca6612     3 -1.059896   \n",
       "4   34      9  I0c02739ff554ca9c     4 -1.241300   \n",
       "..  ..    ...                ...   ...       ...   \n",
       "74  48      8  I7dad15970750f8d4    31 -2.949061   \n",
       "75  48     19  I9cca04466f27d923    32 -2.952404   \n",
       "76  48     16  I67bbb02abaf26583    33 -2.956738   \n",
       "77  48     10  Ia73d445074b4df3d    34 -2.961695   \n",
       "78  48      4  I270936e4b9d90dbb    35 -2.964838   \n",
       "\n",
       "                                                query  \n",
       "0   Are social networking sites good for our society   \n",
       "1   Are social networking sites good for our society   \n",
       "2   Are social networking sites good for our society   \n",
       "3   Are social networking sites good for our society   \n",
       "4   Are social networking sites good for our society   \n",
       "..                                                ...  \n",
       "74                  Should the voting age be lowered   \n",
       "75                  Should the voting age be lowered   \n",
       "76                  Should the voting age be lowered   \n",
       "77                  Should the voting age be lowered   \n",
       "78                  Should the voting age be lowered   \n",
       "\n",
       "[79 rows x 6 columns]"
      ]
     },
     "execution_count": 11,
     "metadata": {},
     "output_type": "execute_result"
    }
   ],
   "source": [
    "run"
   ]
  },
  {
   "cell_type": "markdown",
   "id": "eb2a0f96-ec7b-433d-9578-5caeddf044e1",
   "metadata": {},
   "source": [
    "### Step 7: Stence Detection"
   ]
  },
  {
   "cell_type": "code",
   "execution_count": 12,
   "id": "8c5a31ba-5008-4665-9e22-86dd63e07eb1",
   "metadata": {},
   "outputs": [
    {
     "name": "stdout",
     "output_type": "stream",
     "text": [
      "Step 7: Define stence detection\n"
     ]
    }
   ],
   "source": [
    "print('Step 7: Define stence detection')\n",
    "\n",
    "def detect_stance(query_document_pair):\n",
    "    # As baseline, we return always pro\n",
    "    return 'PRO'"
   ]
  },
  {
   "cell_type": "markdown",
   "id": "28c40a2e-0f96-4ae8-aa5e-55a5e7ef9dee",
   "metadata": {},
   "source": [
    "### Step 6: Persist Run"
   ]
  },
  {
   "cell_type": "code",
   "execution_count": 13,
   "id": "12e5bb42-ed1f-41ba-b7a5-cb43ebca96f6",
   "metadata": {},
   "outputs": [
    {
     "name": "stdout",
     "output_type": "stream",
     "text": [
      "Step 6: Persist Run.\n",
      "Done...\n"
     ]
    }
   ],
   "source": [
    "print('Step 6: Persist Run.')\n",
    "\n",
    "def normalize_run(run):\n",
    "    try:\n",
    "        run['qid'] = run['qid'].astype(int)\n",
    "    except:\n",
    "        pass\n",
    "    run['system'] = SYSTEM_NAME\n",
    "    run = run.copy().sort_values([\"qid\", \"score\", \"docno\"], ascending=[True, False, False]).reset_index()\n",
    "    run = run.groupby(\"qid\")[[\"qid\", \"docno\", \"rank\", \"score\", \"system\"]].head(DEPTH)\n",
    "\n",
    "    # Make sure that rank position starts by 1\n",
    "    run[\"rank\"] = 1\n",
    "    run[\"rank\"] = run.groupby(\"qid\")[\"rank\"].cumsum()\n",
    "    run[\"Q0\"] = run.apply(lambda i: detect_stance(i), axis=1)\n",
    "    run[\"system\"] = SYSTEM_NAME\n",
    "    \n",
    "    return run[['qid', 'Q0', 'docno', 'rank', 'score', 'system']]\n",
    "\n",
    "Path(output_file).mkdir(parents=True, exist_ok=True)\n",
    "normalize_run(run).to_csv(output_file + '/run.txt', sep=' ', header=False, index=False)\n",
    "\n",
    "print('Done...')"
   ]
  },
  {
   "cell_type": "code",
   "execution_count": 14,
   "id": "293d32db-54ad-4792-847f-54653359fa4a",
   "metadata": {},
   "outputs": [
    {
     "name": "stdout",
     "output_type": "stream",
     "text": [
      "34 PRO Iad17912610912ffd 1 -0.15252834973127183 my-retrieval-system\n",
      "34 PRO Ia20c1e2e90f832cb 2 -0.30796645663411376 my-retrieval-system\n",
      "34 PRO I374eede3492beb08 3 -1.046228903596743 my-retrieval-system\n",
      "34 PRO I8b51d50df3ca6612 4 -1.0598961782264882 my-retrieval-system\n",
      "34 PRO I0c02739ff554ca9c 5 -1.2412999972368923 my-retrieval-system\n",
      "34 PRO I3148bc10eaa1db27 6 -1.324361633481474 my-retrieval-system\n",
      "34 PRO Ia51bd34a65572b5f 7 -1.7183700850377206 my-retrieval-system\n",
      "34 PRO Icd93895acd1ab732 8 -2.158627225073589 my-retrieval-system\n",
      "34 PRO I270936e4b9d90dbb 9 -2.4947985179280403 my-retrieval-system\n",
      "34 PRO I2b62b2335042df6d 10 -2.6692315605255468 my-retrieval-system\n",
      "34 PRO Ib94f6daf4ab47689 11 -2.803357673757736 my-retrieval-system\n",
      "34 PRO Icc0f1da10e9b92b9 12 -3.046661112996963 my-retrieval-system\n",
      "34 PRO If497a0f1c2b730b5 13 -3.1839412967065392 my-retrieval-system\n",
      "34 PRO I7dad15970750f8d4 14 -3.2251880425051076 my-retrieval-system\n",
      "34 PRO Ide6d93c2173be1a7 15 -3.234162322647455 my-retrieval-system\n",
      "34 PRO I0eb34de7258ae39a 16 -3.278542058563971 my-retrieval-system\n",
      "34 PRO I46fc855a162cbd98 17 -3.379784493162503 my-retrieval-system\n",
      "34 PRO Ia993cc74992623ab 18 -3.4011929737846813 my-retrieval-system\n",
      "34 PRO Ic81632f55f762b99 19 -3.4021182299037647 my-retrieval-system\n",
      "34 PRO I2f95eab6f780e383 20 -3.4429573957194384 my-retrieval-system\n",
      "34 PRO Iabd7bd3587a82378 21 -3.4571512180725796 my-retrieval-system\n",
      "34 PRO Id64cd4798507fb33 22 -3.5031092905401398 my-retrieval-system\n",
      "34 PRO I11f32c6af7d50a3e 23 -3.538559907828738 my-retrieval-system\n",
      "34 PRO Ia73d445074b4df3d 24 -3.5460941082040165 my-retrieval-system\n",
      "34 PRO Id71eeffeca71adee 25 -3.607620431951512 my-retrieval-system\n",
      "34 PRO I67bbb02abaf26583 26 -3.6567423423310896 my-retrieval-system\n",
      "34 PRO I98501c3595a80407 27 -3.8880785407583174 my-retrieval-system\n",
      "34 PRO Ibdc627bd92b97de4 28 -3.888313454996652 my-retrieval-system\n",
      "34 PRO I34c792db526e7bbc 29 -3.9032735183813454 my-retrieval-system\n",
      "34 PRO I6ad85c75eebee51e 30 -3.921901812599284 my-retrieval-system\n",
      "34 PRO Idc187d773f55378e 31 -3.9919401627063333 my-retrieval-system\n",
      "34 PRO I9cca04466f27d923 32 -4.141495300348444 my-retrieval-system\n",
      "34 PRO Ia74d152270cedab0 33 -4.251029039072056 my-retrieval-system\n",
      "34 PRO I208be82ba17b76f8 34 -4.265567226556914 my-retrieval-system\n",
      "34 PRO Ifc162a612d99ac68 35 -4.633893091021201 my-retrieval-system\n",
      "34 PRO I927bbf179d0ddca5 36 -4.71691077873109 my-retrieval-system\n",
      "34 PRO Iaf40e181beba595a 37 -4.73763006645697 my-retrieval-system\n",
      "34 PRO I16ace897d8007db7 38 -4.793866293357006 my-retrieval-system\n",
      "34 PRO I0538673fe011264e 39 -4.80510919515001 my-retrieval-system\n",
      "34 PRO Ia5bb52f674ce3387 40 -4.813793311798444 my-retrieval-system\n",
      "34 PRO Ibaa25a9245a3cd96 41 -4.949861654204616 my-retrieval-system\n",
      "34 PRO I0da70e10bcf31fc8 42 -5.06202591264238 my-retrieval-system\n",
      "34 PRO I6a52d140c9e3f1b8 43 -5.089492433990176 my-retrieval-system\n",
      "48 PRO I16ace897d8007db7 1 -0.853631864038536 my-retrieval-system\n",
      "48 PRO I6a52d140c9e3f1b8 2 -0.9622739037371058 my-retrieval-system\n",
      "48 PRO I208be82ba17b76f8 3 -0.9651438760842836 my-retrieval-system\n",
      "48 PRO Ia51bd34a65572b5f 4 -0.9826388724839397 my-retrieval-system\n",
      "48 PRO Ia993cc74992623ab 5 -1.0019699335876844 my-retrieval-system\n",
      "48 PRO I6ad85c75eebee51e 6 -1.0894424143904995 my-retrieval-system\n",
      "48 PRO Id71eeffeca71adee 7 -1.093195845510858 my-retrieval-system\n",
      "48 PRO I5275999e41385413 8 -1.1230068933692292 my-retrieval-system\n",
      "48 PRO I8b51d50df3ca6612 9 -1.1370383577382528 my-retrieval-system\n",
      "48 PRO Ia5bb52f674ce3387 10 -1.1673894932721947 my-retrieval-system\n",
      "48 PRO I46fc855a162cbd98 11 -1.2305618882189464 my-retrieval-system\n",
      "48 PRO I6d46965edaea8422 12 -1.2675903596458975 my-retrieval-system\n",
      "48 PRO Icc0f1da10e9b92b9 13 -1.2705201821143681 my-retrieval-system\n",
      "48 PRO Ifc162a612d99ac68 14 -1.4518401712273437 my-retrieval-system\n",
      "48 PRO Ia74d152270cedab0 15 -1.4762219608251044 my-retrieval-system\n",
      "48 PRO Ibdc627bd92b97de4 16 -1.5837858623061538 my-retrieval-system\n",
      "48 PRO I0538673fe011264e 17 -1.749224693080912 my-retrieval-system\n",
      "48 PRO I3148bc10eaa1db27 18 -2.023752719193867 my-retrieval-system\n",
      "48 PRO I374eede3492beb08 19 -2.4167065699365176 my-retrieval-system\n",
      "48 PRO I1a576ba13aa6bb05 20 -2.4276163959368464 my-retrieval-system\n",
      "48 PRO I65c088abc15ed24b 21 -2.6869593582375706 my-retrieval-system\n",
      "48 PRO I11f32c6af7d50a3e 22 -2.715971711343769 my-retrieval-system\n",
      "48 PRO I185bca4e080df723 23 -2.7748684486556487 my-retrieval-system\n",
      "48 PRO Ib94f6daf4ab47689 24 -2.8100430606517204 my-retrieval-system\n",
      "48 PRO I84616f53192e474e 25 -2.8110877530612237 my-retrieval-system\n",
      "48 PRO I2a0c99b5645790e4 26 -2.834826327918727 my-retrieval-system\n",
      "48 PRO I0c02739ff554ca9c 27 -2.850179117680288 my-retrieval-system\n",
      "48 PRO I2b62b2335042df6d 28 -2.9197436219970823 my-retrieval-system\n",
      "48 PRO Iad17912610912ffd 29 -2.9297001911964586 my-retrieval-system\n",
      "48 PRO I98501c3595a80407 30 -2.9320369625146334 my-retrieval-system\n",
      "48 PRO Id64cd4798507fb33 31 -2.943240409695807 my-retrieval-system\n",
      "48 PRO I7dad15970750f8d4 32 -2.949060805948602 my-retrieval-system\n",
      "48 PRO I9cca04466f27d923 33 -2.952403646333704 my-retrieval-system\n",
      "48 PRO I67bbb02abaf26583 34 -2.956737567960778 my-retrieval-system\n",
      "48 PRO Ia73d445074b4df3d 35 -2.961695180977327 my-retrieval-system\n",
      "48 PRO I270936e4b9d90dbb 36 -2.964837596966391 my-retrieval-system\n"
     ]
    }
   ],
   "source": [
    "!cat /tmp/run.txt"
   ]
  },
  {
   "cell_type": "code",
   "execution_count": 19,
   "id": "7ce92adf-2139-40d1-8e07-16951ae32b04",
   "metadata": {},
   "outputs": [],
   "source": [
    "### Create the Re-Ranking Input\n",
    "\n",
    "#TODO: Delete this...\n",
    "\n",
    "#queries = [json.loads(i) for i in open(input_data + '/queries.jsonl')]\n",
    "#queries = {i['qid']: i['query'] for i in queries}\n",
    "#\n",
    "#with open ('/workspace/sample-input/rerank.jsonl', 'w') as out:\n",
    "#    for _, i in run.iterrows():\n",
    "#        out.write(json.dumps({\n",
    "#            'qid': i['qid'],\n",
    "#            'query': queries[str(i['qid'])],\n",
    "#            'docno': i['docno'],\n",
    "#        }) + '\\n')"
   ]
  }
 ],
 "metadata": {
  "kernelspec": {
   "display_name": "Python 3 (ipykernel)",
   "language": "python",
   "name": "python3"
  },
  "language_info": {
   "codemirror_mode": {
    "name": "ipython",
    "version": 3
   },
   "file_extension": ".py",
   "mimetype": "text/x-python",
   "name": "python",
   "nbconvert_exporter": "python",
   "pygments_lexer": "ipython3",
   "version": "3.7.13"
  }
 },
 "nbformat": 4,
 "nbformat_minor": 5
}
