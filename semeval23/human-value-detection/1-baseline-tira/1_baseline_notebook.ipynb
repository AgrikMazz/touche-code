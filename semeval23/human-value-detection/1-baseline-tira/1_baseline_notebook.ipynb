{
 "cells": [
  {
   "cell_type": "markdown",
   "source": [
    "# 1-Baseline model from ACL'22"
   ],
   "metadata": {
    "collapsed": false,
    "pycharm": {
     "name": "#%% md\n"
    }
   }
  },
  {
   "cell_type": "code",
   "execution_count": null,
   "outputs": [],
   "source": [
    "import os\n",
    "import csv\n",
    "from typing import List, Dict\n",
    "\n",
    "runs_as_inference_server = os.environ.get('TIRA_INFERENCE_SERVER', None) is not None\n",
    "dataset_dir = os.environ.get('TIRA_INPUT_DIRECTORY', './dataset')\n",
    "output_dir = os.environ.get('TIRA_OUTPUT_DIRECTORY', './output')"
   ],
   "metadata": {
    "collapsed": false,
    "pycharm": {
     "name": "#%%\n"
    }
   }
  },
  {
   "cell_type": "markdown",
   "source": [
    "## Setup"
   ],
   "metadata": {
    "collapsed": false,
    "pycharm": {
     "name": "#%% md\n"
    }
   }
  },
  {
   "cell_type": "code",
   "execution_count": null,
   "outputs": [],
   "source": [
    "values = [ \"Self-direction: thought\", \"Self-direction: action\", \"Stimulation\", \"Hedonism\", \"Achievement\", \"Power: dominance\", \"Power: resources\", \"Face\", \"Security: personal\", \"Security: societal\", \"Tradition\", \"Conformity: rules\", \"Conformity: interpersonal\", \"Humility\", \"Benevolence: caring\", \"Benevolence: dependability\", \"Universalism: concern\", \"Universalism: nature\", \"Universalism: tolerance\", \"Universalism: objectivity\" ]\n",
    "value_dict = {value: 1 for value in values}"
   ],
   "metadata": {
    "collapsed": false,
    "pycharm": {
     "name": "#%%\n"
    }
   }
  },
  {
   "cell_type": "code",
   "execution_count": null,
   "outputs": [],
   "source": [
    "# generic code for reading and writing\n",
    "\n",
    "def readInstances(directory):\n",
    "    instances = []\n",
    "    for instancesBaseName in os.listdir(directory):\n",
    "        if instancesBaseName.startswith(\"arguments\") and instancesBaseName.endswith(\".tsv\"):\n",
    "            instancesFileName = os.path.join(directory, instancesBaseName)\n",
    "            with open(instancesFileName, \"r\", newline='') as instancesFile:\n",
    "                print(\"Reading \" + instancesFileName)\n",
    "                reader = csv.DictReader(instancesFile, delimiter = \"\\t\")\n",
    "                for fieldName in [\"Argument ID\", \"Conclusion\", \"Stance\", \"Premise\"]:\n",
    "                    if fieldName not in reader.fieldnames:\n",
    "                        print(\"Skipping file \" + instancesFileName + \" due to missing field '\" + fieldName + \"'\")\n",
    "                        continue\n",
    "                for row in reader:\n",
    "                    instances.append(row)\n",
    "    return instances"
   ],
   "metadata": {
    "collapsed": false,
    "pycharm": {
     "name": "#%%\n"
    }
   }
  },
  {
   "cell_type": "markdown",
   "source": [
    "## Predict function"
   ],
   "metadata": {
    "collapsed": false,
    "pycharm": {
     "name": "#%% md\n"
    }
   }
  },
  {
   "cell_type": "code",
   "execution_count": null,
   "outputs": [],
   "source": [
    "def predict(input_list: List) -> List[Dict]:\n",
    "    return [value_dict for _ in input_list]"
   ],
   "metadata": {
    "collapsed": false,
    "pycharm": {
     "name": "#%%\n"
    }
   }
  },
  {
   "cell_type": "code",
   "execution_count": null,
   "outputs": [],
   "source": [
    "# \"instance\" is a dict with keys \"Argument ID\", \"Conclusion\", \"Stance\", and \"Premise\"\n",
    "def labelInstances(instances: List[Dict]):\n",
    "    print(\"Labeling \" + str(len(instances)) + \" instances\")\n",
    "    predictions = [{\"Argument ID\": instance[\"Argument ID\"], **labels} for instance, labels in zip(instances, predict(instances))]\n",
    "    return predictions"
   ],
   "metadata": {
    "collapsed": false,
    "pycharm": {
     "name": "#%%\n"
    }
   }
  },
  {
   "cell_type": "markdown",
   "source": [
    "## Classification on TIRA"
   ],
   "metadata": {
    "collapsed": false,
    "pycharm": {
     "name": "#%% md\n"
    }
   }
  },
  {
   "cell_type": "code",
   "execution_count": null,
   "outputs": [],
   "source": [
    "def writeRun(labels: List[Dict[str, int]], outputDataset):\n",
    "    if not os.path.exists(outputDataset):\n",
    "        os.makedirs(outputDataset)\n",
    "\n",
    "    fieldNames = [ \"Argument ID\" ] + values\n",
    "\n",
    "    print(\"Writing run file\")\n",
    "    with open(os.path.join(outputDataset, \"run.tsv\"), \"w\") as runFile:\n",
    "        writer = csv.DictWriter(runFile, fieldnames = fieldNames, delimiter = \"\\t\")\n",
    "        writer.writeheader()\n",
    "        for row in labels:\n",
    "            writer.writerow(row)"
   ],
   "metadata": {
    "collapsed": false,
    "pycharm": {
     "name": "#%%\n"
    }
   }
  },
  {
   "cell_type": "code",
   "execution_count": null,
   "outputs": [],
   "source": [
    "if not runs_as_inference_server:\n",
    "    writeRun(labelInstances(readInstances(dataset_dir)), output_dir)"
   ],
   "metadata": {
    "collapsed": false,
    "pycharm": {
     "name": "#%%\n"
    }
   }
  }
 ],
 "metadata": {
  "kernelspec": {
   "display_name": "Python 3",
   "language": "python",
   "name": "python3"
  },
  "language_info": {
   "codemirror_mode": {
    "name": "ipython",
    "version": 2
   },
   "file_extension": ".py",
   "mimetype": "text/x-python",
   "name": "python",
   "nbconvert_exporter": "python",
   "pygments_lexer": "ipython2",
   "version": "2.7.6"
  }
 },
 "nbformat": 4,
 "nbformat_minor": 0
}