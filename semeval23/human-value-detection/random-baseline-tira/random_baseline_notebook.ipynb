{
 "cells": [
  {
   "cell_type": "code",
   "execution_count": null,
   "outputs": [],
   "source": [
    "import os\n",
    "import csv\n",
    "from typing import List\n",
    "import random\n",
    "\n",
    "runs_as_inference_server = os.environ.get('TIRA_INFERENCE_SERVER', None) is not None\n",
    "dataset_dir = os.environ.get('TIRA_INPUT_DIRECTORY', None)\n",
    "output_dir = os.environ.get('TIRA_OUTPUT_DIRECTORY', None)"
   ],
   "metadata": {
    "collapsed": false,
    "pycharm": {
     "name": "#%%\n"
    }
   }
  },
  {
   "cell_type": "code",
   "execution_count": null,
   "outputs": [],
   "source": [
    "values = [ \"Self-direction: thought\", \"Self-direction: action\", \"Stimulation\", \"Hedonism\", \"Achievement\", \"Power: dominance\", \"Power: resources\", \"Face\", \"Security: personal\", \"Security: societal\", \"Tradition\", \"Conformity: rules\", \"Conformity: interpersonal\", \"Humility\", \"Benevolence: caring\", \"Benevolence: dependability\", \"Universalism: concern\", \"Universalism: nature\", \"Universalism: tolerance\", \"Universalism: objectivity\" ]\n",
    "probabilities = [ 0.17, 0.26, 0.06, 0.04, 0.27, 0.09, 0.11, 0.07, 0.38, 0.31, 0.11, 0.23, 0.04, 0.08, 0.29, 0.15, 0.38, 0.07, 0.14, 0.18 ]"
   ],
   "metadata": {
    "collapsed": false,
    "pycharm": {
     "name": "#%%\n"
    }
   }
  },
  {
   "cell_type": "code",
   "execution_count": null,
   "outputs": [],
   "source": [
    "def predict(input_list: List) -> List:\n",
    "    return [[values[i] for i in range(len(values)) if random.random() <= probabilities[i]] for _ in input_list]"
   ],
   "metadata": {
    "collapsed": false,
    "pycharm": {
     "name": "#%%\n"
    }
   }
  },
  {
   "cell_type": "code",
   "execution_count": null,
   "outputs": [],
   "source": [
    "# \"instance\" is a dict with keys \"Argument ID\", \"Conclusion\", \"Stance\", and \"Premise\"\n",
    "# return value is the list of detected values (here: use all)\n",
    "def labelInstance(instance):\n",
    "    return predict([instance])[0]"
   ],
   "metadata": {
    "collapsed": false,
    "pycharm": {
     "name": "#%%\n"
    }
   }
  },
  {
   "cell_type": "code",
   "execution_count": null,
   "outputs": [],
   "source": [
    "# generic code for reading and writing\n",
    "\n",
    "def readInstances(directory):\n",
    "    instances = []\n",
    "    for instancesBaseName in os.listdir(directory):\n",
    "        if instancesBaseName.startswith(\"arguments\") and instancesBaseName.endswith(\".tsv\"):\n",
    "            instancesFileName = os.path.join(directory, instancesBaseName)\n",
    "            with open(instancesFileName, \"r\", newline='') as instancesFile:\n",
    "                print(\"Reading \" + instancesFileName)\n",
    "                reader = csv.DictReader(instancesFile, delimiter = \"\\t\")\n",
    "                for fieldName in [\"Argument ID\", \"Conclusion\", \"Stance\", \"Premise\"]:\n",
    "                    if fieldName not in reader.fieldnames:\n",
    "                        print(\"Skipping file \" + instancesFileName + \" due to missing field '\" + fieldName + \"'\")\n",
    "                        continue\n",
    "                for row in reader:\n",
    "                    instances.append(row)\n",
    "    return instances"
   ],
   "metadata": {
    "collapsed": false,
    "pycharm": {
     "name": "#%%\n"
    }
   }
  },
  {
   "cell_type": "code",
   "execution_count": null,
   "outputs": [],
   "source": [
    "def labelInstances(instances):\n",
    "    print(\"Labeling \" + str(len(instances)) + \" instances\")\n",
    "    labels = {}\n",
    "    for instance in instances:\n",
    "        labels[instance[\"Argument ID\"]] = labelInstance(instance)\n",
    "    return labels"
   ],
   "metadata": {
    "collapsed": false,
    "pycharm": {
     "name": "#%%\n"
    }
   }
  },
  {
   "cell_type": "code",
   "execution_count": null,
   "outputs": [],
   "source": [
    "def writeRun(labels, outputDataset):\n",
    "    if not os.path.exists(outputDataset):\n",
    "        os.makedirs(outputDataset)\n",
    "\n",
    "    usedValues = set()\n",
    "    for instanceValues in labels.values():\n",
    "        usedValues.update(instanceValues)\n",
    "\n",
    "    for usedValue in usedValues:\n",
    "        if usedValue not in values:\n",
    "            print(\"Unknown value: '\" + usedValue + \"'\")\n",
    "            exit(1)\n",
    "\n",
    "    print(\"Detected values: \" + str(usedValues))\n",
    "\n",
    "    fieldNames = [ \"Argument ID\" ]\n",
    "    for value in values:\n",
    "        if value in usedValues:\n",
    "            fieldNames.append(value)\n",
    "\n",
    "    print(\"Writing run file\")\n",
    "    with open(os.path.join(outputDataset, \"run.tsv\"), \"w\") as runFile:\n",
    "        writer = csv.DictWriter(runFile, fieldnames = fieldNames, delimiter = \"\\t\")\n",
    "        writer.writeheader()\n",
    "        for (argumentId, instanceValues) in labels.items():\n",
    "            row = { \"Argument ID\": argumentId }\n",
    "            for value in usedValues:\n",
    "                if value in instanceValues:\n",
    "                    row[value] = \"1\"\n",
    "                else:\n",
    "                    row[value] = \"0\"\n",
    "            writer.writerow(row)"
   ],
   "metadata": {
    "collapsed": false,
    "pycharm": {
     "name": "#%%\n"
    }
   }
  },
  {
   "cell_type": "code",
   "execution_count": null,
   "outputs": [],
   "source": [
    "if not runs_as_inference_server:\n",
    "    writeRun(labelInstances(readInstances(dataset_dir)), output_dir)"
   ],
   "metadata": {
    "collapsed": false,
    "pycharm": {
     "name": "#%%\n"
    }
   }
  }
 ],
 "metadata": {
  "kernelspec": {
   "display_name": "Python 3",
   "language": "python",
   "name": "python3"
  },
  "language_info": {
   "codemirror_mode": {
    "name": "ipython",
    "version": 2
   },
   "file_extension": ".py",
   "mimetype": "text/x-python",
   "name": "python",
   "nbconvert_exporter": "python",
   "pygments_lexer": "ipython2",
   "version": "2.7.6"
  }
 },
 "nbformat": 4,
 "nbformat_minor": 0
}