{
 "cells": [
  {
   "cell_type": "markdown",
   "source": [
    "# SVM model from ACL'22"
   ],
   "metadata": {
    "collapsed": false,
    "pycharm": {
     "name": "#%% md\n"
    }
   }
  },
  {
   "cell_type": "code",
   "execution_count": null,
   "outputs": [],
   "source": [
    "import pandas as pd\n",
    "import os\n",
    "from typing import List\n",
    "from components.setup import (load_values_from_json, load_arguments_from_tsv, split_arguments,\n",
    "                              write_tsv_dataframe, create_dataframe_head)\n",
    "from components.models_svm import (load_svms)\n",
    "\n",
    "runs_as_inference_server = os.environ.get('TIRA_INFERENCE_SERVER', None) is not None\n",
    "dataset_dir = os.environ.get('TIRA_INPUT_DIRECTORY', './dataset')\n",
    "output_dir = os.environ.get('TIRA_OUTPUT_DIRECTORY', './output')"
   ],
   "metadata": {
    "collapsed": false,
    "pycharm": {
     "name": "#%%\n"
    }
   }
  },
  {
   "cell_type": "markdown",
   "source": [
    "## Setup"
   ],
   "metadata": {
    "collapsed": false,
    "pycharm": {
     "name": "#%% md\n"
    }
   }
  },
  {
   "cell_type": "code",
   "execution_count": null,
   "outputs": [],
   "source": [
    "data_dir = 'core_data/'\n",
    "model_dir = 'models/svm/'\n",
    "level = \"2\""
   ],
   "metadata": {
    "collapsed": false,
    "pycharm": {
     "name": "#%%\n"
    }
   }
  },
  {
   "cell_type": "code",
   "execution_count": null,
   "outputs": [],
   "source": [
    "values_filepath = os.path.join(data_dir, 'values.json')\n",
    "values = load_values_from_json(values_filepath)"
   ],
   "metadata": {
    "collapsed": false,
    "pycharm": {
     "name": "#%%\n"
    }
   }
  },
  {
   "cell_type": "code",
   "execution_count": null,
   "outputs": [],
   "source": [
    "_model_registry = load_svms(values[level],\n",
    "                            os.path.join(model_dir, f'svm_train_level{level}_vectorizer.json'),\n",
    "                            os.path.join(model_dir, f'svm_train_level{level}_models.json'))"
   ],
   "metadata": {
    "collapsed": false,
    "pycharm": {
     "name": "#%%\n"
    }
   }
  },
  {
   "cell_type": "markdown",
   "source": [
    "## Predict function"
   ],
   "metadata": {
    "collapsed": false,
    "pycharm": {
     "name": "#%% md\n"
    }
   }
  },
  {
   "cell_type": "code",
   "execution_count": null,
   "outputs": [],
   "source": [
    "def predict(input_list: List) -> List:\n",
    "    # expect list of simple premise-strings\n",
    "    input_vector = pd.Series(input_list, name='Premise')\n",
    "    df_model_predictions = {}\n",
    "\n",
    "    for label_name in values[level]:\n",
    "        svm = _model_registry[label_name]\n",
    "        df_model_predictions[label_name] = svm.predict(input_vector)\n",
    "\n",
    "    return pd.DataFrame(df_model_predictions, columns=values[level]).to_dict('records')"
   ],
   "metadata": {
    "collapsed": false,
    "pycharm": {
     "name": "#%%\n"
    }
   }
  },
  {
   "cell_type": "markdown",
   "source": [
    "## Classification on TIRA"
   ],
   "metadata": {
    "collapsed": false,
    "pycharm": {
     "name": "#%% md\n"
    }
   }
  },
  {
   "cell_type": "code",
   "execution_count": null,
   "outputs": [],
   "source": [
    "if not runs_as_inference_server:\n",
    "    argument_filepath = os.path.join(dataset_dir, 'arguments.tsv')\n",
    "\n",
    "    # load arguments\n",
    "    df_arguments = load_arguments_from_tsv(argument_filepath)\n",
    "\n",
    "    # format dataset\n",
    "    _, _, df_test = split_arguments(df_arguments)\n",
    "\n",
    "    # predict with Bert model\n",
    "    df_prediction = create_dataframe_head(df_test['Argument ID'])\n",
    "    print(\"===> SVM: Predicting Level %s...\" % level)\n",
    "    prediction_list = predict(df_test['Premise'].tolist())  # call uniform predict function\n",
    "    df_prediction = pd.concat([df_prediction, pd.DataFrame.from_dict(prediction_list)], axis=1)\n",
    "\n",
    "    # write predictions\n",
    "    print(\"===> Writing predictions...\")\n",
    "    write_tsv_dataframe(os.path.join(output_dir, 'predictions.tsv'), df_prediction)"
   ],
   "metadata": {
    "collapsed": false,
    "pycharm": {
     "name": "#%%\n"
    }
   }
  }
 ],
 "metadata": {
  "kernelspec": {
   "display_name": "Python 3",
   "language": "python",
   "name": "python3"
  },
  "language_info": {
   "codemirror_mode": {
    "name": "ipython",
    "version": 2
   },
   "file_extension": ".py",
   "mimetype": "text/x-python",
   "name": "python",
   "nbconvert_exporter": "python",
   "pygments_lexer": "ipython2",
   "version": "2.7.6"
  }
 },
 "nbformat": 4,
 "nbformat_minor": 0
}