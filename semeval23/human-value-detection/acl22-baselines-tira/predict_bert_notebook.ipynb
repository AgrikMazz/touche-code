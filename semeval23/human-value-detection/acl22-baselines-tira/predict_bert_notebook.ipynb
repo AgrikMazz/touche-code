{
 "cells": [
  {
   "cell_type": "markdown",
   "source": [
    "# BERT model from ACL'22"
   ],
   "metadata": {
    "collapsed": false,
    "pycharm": {
     "name": "#%% md\n"
    }
   }
  },
  {
   "cell_type": "code",
   "execution_count": null,
   "outputs": [],
   "source": [
    "import pandas as pd\n",
    "import os\n",
    "from typing import List\n",
    "from tira.third_party_integrations import is_running_as_inference_server, get_input_directory_and_output_directory\n",
    "from components.setup import (load_values_from_json, load_arguments_from_tsv, split_arguments,\n",
    "                              write_tsv_dataframe, create_dataframe_head)\n",
    "from components.models_bert import (predict_bert_model, load_tokenizer)"
   ],
   "metadata": {
    "collapsed": false,
    "pycharm": {
     "name": "#%%\n"
    }
   }
  },
  {
   "cell_type": "code",
   "execution_count": null,
   "outputs": [],
   "source": [
    "data_dir = 'core_data/'\n",
    "model_dir = 'models/bert/'\n",
    "tokenizer_dir = 'tokenizer/'\n",
    "level = \"2\""
   ],
   "metadata": {
    "collapsed": false,
    "pycharm": {
     "name": "#%%\n",
     "is_executing": true
    }
   }
  },
  {
   "cell_type": "code",
   "execution_count": null,
   "outputs": [],
   "source": [
    "load_tokenizer(tokenizer_dir)\n",
    "\n",
    "values_filepath = os.path.join(data_dir, 'values.json')\n",
    "values = load_values_from_json(values_filepath)"
   ],
   "metadata": {
    "collapsed": false,
    "pycharm": {
     "name": "#%%\n"
    }
   }
  },
  {
   "cell_type": "code",
   "execution_count": null,
   "outputs": [],
   "source": [
    "def predict(input_list: List) -> List:\n",
    "    # expect list of simple premise-strings\n",
    "    df_predict = pd.DataFrame(input_list, columns=['Premise'])\n",
    "\n",
    "    result = predict_bert_model(df_predict, os.path.join(model_dir, 'bert_train_level{}'.format(level)),\n",
    "                                    values[level])\n",
    "    return result.tolist()"
   ],
   "metadata": {
    "collapsed": false,
    "pycharm": {
     "name": "#%%\n"
    }
   }
  },
  {
   "cell_type": "code",
   "execution_count": null,
   "outputs": [],
   "source": [
    "if not is_running_as_inference_server():\n",
    "    dataset_dir, output_dir = get_input_directory_and_output_directory('./')\n",
    "    argument_filepath = os.path.join(dataset_dir, 'arguments.tsv')\n",
    "\n",
    "    # load arguments\n",
    "    df_arguments = load_arguments_from_tsv(argument_filepath)\n",
    "\n",
    "    # format dataset\n",
    "    _, _, df_test = split_arguments(df_arguments)\n",
    "\n",
    "    # predict with Bert model\n",
    "    df_prediction = create_dataframe_head(df_test['Argument ID'])\n",
    "    print(\"===> Bert: Predicting Level %s...\" % level)\n",
    "    result_list = predict(df_test['Premise'].tolist())  # call uniform predict function\n",
    "    df_prediction = pd.concat([df_prediction, pd.DataFrame(result_list, columns=values[level])], axis=1)\n",
    "\n",
    "    # write predictions\n",
    "    print(\"===> Writing predictions...\")\n",
    "    write_tsv_dataframe(os.path.join(output_dir, 'predictions.tsv'), df_prediction)"
   ],
   "metadata": {
    "collapsed": false,
    "pycharm": {
     "name": "#%%\n"
    }
   }
  }
 ],
 "metadata": {
  "kernelspec": {
   "display_name": "Python 3",
   "language": "python",
   "name": "python3"
  },
  "language_info": {
   "codemirror_mode": {
    "name": "ipython",
    "version": 2
   },
   "file_extension": ".py",
   "mimetype": "text/x-python",
   "name": "python",
   "nbconvert_exporter": "python",
   "pygments_lexer": "ipython2",
   "version": "2.7.6"
  }
 },
 "nbformat": 4,
 "nbformat_minor": 0
}